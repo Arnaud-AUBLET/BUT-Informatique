{
 "cells": [
  {
   "cell_type": "markdown",
   "id": "a29fd59d",
   "metadata": {},
   "source": [
    "**Question Préliminaire :** Nous avons désiné sur une feuille le réseau d'amitié décrit dans la question, puis nous avons rentré les différentes liaisons dans le tableau."
   ]
  },
  {
   "cell_type": "markdown",
   "id": "917ea07e",
   "metadata": {},
   "source": [
    "**Question 1 :** L’objectif de la question étant de définir une fonction qui renvoie un nombre d’amis,  nous avons décidé de faire un compteur qui augmente à chaque fois qu’il voit le prénom de la personne mise en paramètre car cela signifie qu’il y a une amitié avec une autre personne. Nous n’avons rencontré aucune difficulté particulière sur cette question.\n"
   ]
  },
  {
   "cell_type": "markdown",
   "id": "f1d8fa4c",
   "metadata": {},
   "source": [
    "**Question 2 :** L’objectif de la question étant de définir une fonction qui renvoie un nombre de personnes appartenant à ce réseau social,\n",
    "nous avons décidé de créer un tableau vide et de parcourir le réseau en ajoutant chaque membres aux tableau en évitant les doublons et qui renvoie ensuite la taille de ce tableau\n",
    "Ici la difficulté était d'éviter les doublons cependant nous avons su y remédier sans trop de difficulté.\n"
   ]
  },
  {
   "cell_type": "markdown",
   "id": "f69a8472",
   "metadata": {},
   "source": [
    "**Question 3 :** L’objectif de la question était de définir une fonction qui arrive à récupérer des informations d’un fichier et de le renvoyer sous forme d’une seule liste.\n",
    "Ici la difficulté après avoir extrait les informations du fichier était de tout mettre dans un tableau sous un même format et pour cela on a utilise les fonctions split et strip      \n"
   ]
  },
  {
   "cell_type": "markdown",
   "id": "daa662be",
   "metadata": {},
   "source": [
    "**Question 4 :** L'objectif de la question étant de definir une fonction qui renvoie un dictionnaire avec pour clés les prénoms et pour valeurs un tableau de leurs amis.\n",
    "Nous avons donc fait un tableau contenant les différents prénoms sans doublons, puis pour chaque prénoms nous avons ajouté ce dernier au dictionnaire ainsi que son tableau d'amis.\n",
    "La difficulté de cette question était de trouver les amis des différents prénoms."
   ]
  },
  {
   "cell_type": "markdown",
   "id": "73377d2a",
   "metadata": {},
   "source": [
    "**Question 5 :** L’objectif de la question étant de définir une fonction qui renvoie le nombre d’amis de la ou les personnes les plus populaires d’un réseau.\n",
    "Pour cela nous avons rappelé la fonction précédente, en comptant les valeurs correspondant à chaque clé, pour avoir le nombre d’amis. Nous avons ensuite comparé ces chiffres afin d’en définir les plus populaires.\n",
    "Ici la difficulté était de bien lire les informations qui nous intéressaient dans le dictionnaire.\n"
   ]
  },
  {
   "cell_type": "markdown",
   "id": "c962566b",
   "metadata": {},
   "source": [
    "**Question 6 :** L’objectif de la question étant de définir une fonction qui renvoie la ou les personnes les plus populaires d’un réseau.\n",
    "Pour cela nous avons rappelé la fonction de la question 4 en comptant les valeurs correspondant à chaque clé, pour avoir le nombre d’amis. Nous avons ensuite comparé ces chiffres afin d’en définir les plus populaires.\n",
    "Ici la difficulté était de créer un tableau en gardant les personnes les plus populaires.\n"
   ]
  }
 ],
 "metadata": {
  "kernelspec": {
   "display_name": "Python 3 (ipykernel)",
   "language": "python",
   "name": "python3"
  },
  "language_info": {
   "codemirror_mode": {
    "name": "ipython",
    "version": 3
   },
   "file_extension": ".py",
   "mimetype": "text/x-python",
   "name": "python",
   "nbconvert_exporter": "python",
   "pygments_lexer": "ipython3",
   "version": "3.9.12"
  }
 },
 "nbformat": 4,
 "nbformat_minor": 5
}
