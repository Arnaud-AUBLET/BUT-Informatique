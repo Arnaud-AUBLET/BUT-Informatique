{
 "cells": [
  {
   "cell_type": "markdown",
   "metadata": {
    "deletable": false,
    "editable": false,
    "run_control": {
     "frozen": true
    }
   },
   "source": [
    "# <center> Etude de communautés dans un réseau social</center>\n",
    "<center> SAE 1.01 / 2022 - 23 </center>\n",
    "\n"
   ]
  },
  {
   "cell_type": "markdown",
   "metadata": {
    "deletable": false,
    "editable": false,
    "run_control": {
     "frozen": true
    }
   },
   "source": [
    "Cette SAE est à faire en **binôme**.\n",
    "\n",
    "**Calendrier**\n",
    "- Un contrôle de 2h en lien avec le contenu de cette SAE aura lieu le mercredi **26 octobre** 2022.\n",
    "- Le projet est à rendre le vendredi **28 octobre** 2022. Les modalités de rendu vous seront précisées par votre enseignant.\n",
    "\n",
    "**Evaluation**\n",
    "- Le projet comptera pour 40% de la note de SAE 1.01. <BR>\n",
    "    Il sera particulièrement tenu compte de la qualité du code, des **commentaires** et **docstrings**, des fonctions de **tests unitaires** pour les fonctions renvoyant des résultats. <BR><BR>\n",
    "    \n",
    "- Le contrôle compte pour 60% de la note finale."
   ]
  },
  {
   "cell_type": "markdown",
   "metadata": {
    "deletable": false,
    "editable": false,
    "run_control": {
     "frozen": true
    }
   },
   "source": [
    "## <center> Sujet </center>\n",
    "\n",
    "Une *communauté* est un ensemble de personnes développant des interactions dans un réseau social.\n",
    "\n",
    "Dans ce projet, on étudie des communautés modélisées sous différentes formes. Pour cela, on développe des fonctions permettant d'extraire des informations relatives à ces réseaux. "
   ]
  },
  {
   "cell_type": "markdown",
   "metadata": {
    "deletable": false,
    "editable": false,
    "run_control": {
     "frozen": true
    }
   },
   "source": [
    "On modélise, dans un premier temps, les interactions entre personnes dans un tableau `amis` de chaînes de caractères contenant les prénoms des membres du réseau et tel que `amis[2*i]` a des interactions avec `amis[2*i+1]`.\n",
    "\n",
    "On suppose que chaque interaction n'est décrite qu'une seule fois dans le tableau, et qu'une personne n'a pas d'interaction avec elle-même.\n",
    "\n",
    "**Exemple** : "
   ]
  },
  {
   "cell_type": "code",
   "execution_count": 1,
   "metadata": {
    "deletable": false,
    "editable": false
   },
   "outputs": [],
   "source": [
    "amis = [\"Alice\", \"Bob\", \"Alice\", \"Charlie\", \"Bob\", \"Denis\"]"
   ]
  },
  {
   "cell_type": "markdown",
   "metadata": {
    "deletable": false,
    "editable": false,
    "run_control": {
     "frozen": true
    }
   },
   "source": [
    "Ici, \n",
    "- Alice a des interactions Bob et Charlie, \n",
    "- Bob a des intractions avec Alice et Denis,\n",
    "- Charlie a des interactions avec Alice et\n",
    "- Denis a des interactions avec Bob."
   ]
  },
  {
   "cell_type": "markdown",
   "metadata": {
    "deletable": false,
    "editable": false,
    "run_control": {
     "frozen": true
    }
   },
   "source": [
    "#### Question préliminaire : Modélisation d'un réseau par un tableau\n",
    "\n",
    "Muriel, Yasmine et Joël sont amis. Yasmine est amie avec Thomas. \n",
    "Joël, Nassim, Andrea et Ali sont amis. Thomas est ami de Daria et Carole. Thierry, Axel et Léo sont amis. Léo est ami de Valentin qui est ami d'Andrea.\n",
    "\n",
    "- Construire un tableau `p_amis` qui modélise ce réseau d'amitié en selon le principe qui vient d'être décrit."
   ]
  },
  {
   "cell_type": "code",
   "execution_count": 2,
   "metadata": {},
   "outputs": [],
   "source": [
    "p_amis = [\n",
    "    'Muriel', 'Yasmine', 'Muriel', 'Joël', 'Yasmine', 'Joël', 'Yasmine',\n",
    "    'Thomas', 'Joël', 'Nassim', 'Joël', 'Andrea', 'Joël', 'Ali', 'Thomas',\n",
    "    'Daria', 'Thomas', 'Carole', 'Nassim', 'Andrea', 'Nassim', 'Ali', 'Andrea',\n",
    "    'Ali', 'Thierry', 'Axel', 'Axel', 'Léo', 'Thierry', 'Léo', 'Léo',\n",
    "    'Valentin', 'Valentin', 'Andrea'\n",
    "]\n"
   ]
  },
  {
   "cell_type": "markdown",
   "metadata": {
    "deletable": false,
    "editable": false,
    "run_control": {
     "frozen": true
    }
   },
   "source": [
    "#### Question 1 : Nombre d'amis d'une personne\n",
    "\n",
    "- Étant donné un tableau `amis`, écrire une fonction `nb_amis(amis, prenom)` qui retourne le nombre d'amis de `prenom` à partir des données du tableau `amis`. "
   ]
  },
  {
   "cell_type": "code",
   "execution_count": 3,
   "metadata": {},
   "outputs": [
    {
     "name": "stdout",
     "output_type": "stream",
     "text": [
      "La fonction nb_amis() est OK !\n"
     ]
    }
   ],
   "source": [
    "def nb_amis(amis, prenom):\n",
    "    \"\"\"\n",
    "       fonction determine le nombre d'amis du prénom voulu (nombre d'occurence)\n",
    "       Entrées : amis (un tableau) et prenom (chaîne de caractère)\n",
    "       renvoie nb (entier) qui est son nombre d'amis\n",
    "    \"\"\"\n",
    "    nb = 0                              #initialisation compteur\n",
    "    for i in range(len(amis)):          #boucle avec i parcourant les indices du tableau amis\n",
    "        if amis[i] == prenom:           #vérifie si valeur = prenom\n",
    "            nb += 1                     #si oui on ajoute 1 au compteur \n",
    "    return nb                           #renvoie le resultat\n",
    "\n",
    "def test_nb_amis():\n",
    "    assert nb_amis(p_amis, 'Yasmine') == 3\n",
    "    assert nb_amis(p_amis, 'Muriel') == 2\n",
    "    assert nb_amis(p_amis, 'Patrick') == 0\n",
    "    print('La fonction nb_amis() est OK !')\n",
    "    \n",
    "test_nb_amis()"
   ]
  },
  {
   "cell_type": "markdown",
   "metadata": {
    "deletable": false,
    "editable": false,
    "run_control": {
     "frozen": true
    }
   },
   "source": [
    "#### Question 2 : Nombre de membres d'un réseau social \n",
    "\n",
    "- Ecrire une fonction `taille_reseau(amis)` qui à partir d'un tableau `amis`retourne le nombre de personnes distinctes participant à ce réseau social."
   ]
  },
  {
   "cell_type": "code",
   "execution_count": 4,
   "metadata": {},
   "outputs": [
    {
     "name": "stdout",
     "output_type": "stream",
     "text": [
      "La fonction taille_reseau() est OK !\n"
     ]
    }
   ],
   "source": [
    "def taille_reseau(amis):\n",
    "    \"\"\"\n",
    "       fonction determine le nombre de personne du réseau\n",
    "       Entrées : amis (un tableau)\n",
    "       renvoie un entier qui est le nombre de personnes distinctes (entier)\n",
    "    \"\"\"\n",
    "    taille = []                           #initialisation tableau vide\n",
    "    for i in range(len(amis)):            #boucle parcourant les indices de amis\n",
    "        if amis[i] not in taille:         #vérifie si le prenom n'est pas déjà présent\n",
    "            taille.append(amis[i])        #si c'est le cas ajoute le prenom a taille\n",
    "    return len(taille)                    #renvoie la longueur du tableau taille\n",
    "\n",
    "def test_taille_reseau():\n",
    "    assert taille_reseau(p_amis) == 13\n",
    "    assert taille_reseau(amis) == 4\n",
    "    assert taille_reseau([]) == 0\n",
    "    print('La fonction taille_reseau() est OK !')\n",
    "          \n",
    "test_taille_reseau()"
   ]
  },
  {
   "cell_type": "markdown",
   "metadata": {
    "deletable": false,
    "editable": false,
    "run_control": {
     "frozen": true
    }
   },
   "source": [
    "#### Question 3 :  Lecture des données d'un réseau à partir d'un fichier\n",
    "On suppose que les données sur un réseau social sont stockées dans un fichier CSV de la manière suivante :\n",
    "```\n",
    "prenom1;prenom2\n",
    "prenom3;prenom4\n",
    "prenom5;prenom6\n",
    "...\n",
    "```\n",
    "Autrement dit, chaque ligne du fichier contient une paire de prénoms séparés par un `';'` correspondant à deux personnes ayant des interactions. \n",
    "\n",
    "**NB** : Quatre fichiers CSV de ce type sont fournis dans le répertoire `files/`, il s'agit des fichiers`Communaute1.csv`, `Communaute2.csv`,`Communaute3.csv` et `Communaute4.csv`. \n",
    "Il est recommandé d'en fabriquer d'autres. \n",
    "\n",
    "- Ecrire une fonction `lecture_reseau(path)` prenant en paramètre un chemin vers un tel fichier CSV et retournant un tableau modélisant les interactions entre les personnes du fichier."
   ]
  },
  {
   "cell_type": "code",
   "execution_count": 5,
   "metadata": {},
   "outputs": [
    {
     "name": "stdout",
     "output_type": "stream",
     "text": [
      "La fonction lecture_reseau() est OK !\n"
     ]
    }
   ],
   "source": [
    "def lecture_reseau(path):\n",
    "    \"\"\"\n",
    "       fonction modélise les interactions entre les personnes\n",
    "       Entrées : path, un chemin menant vers un fichier csv (chaîne de caractère)\n",
    "       renvoie rst (un tableau)\n",
    "    \"\"\"\n",
    "    fichier = open(path, encoding = 'utf-8', mode = 'r')    #ouverture du fichier\n",
    "    reseau = fichier.readlines()                            #lecture de toutes les lignes du fichier\n",
    "    fichier.close()                                         #fermeture du fichier\n",
    "    rst = []                                                #initialise un tableau vide\n",
    "    for i in range(len(reseau)):                            #boucle parcourant les indices du tableau reseau\n",
    "        a = reseau[i].strip().split(';')                    #creation tableau avec comme valeur les prenoms de la ligne i \n",
    "        rst.append(a[0])                                    #ajoute le premier prenom\n",
    "        rst.append(a[1])                                    #ajoute le deuxieme prenom\n",
    "    return rst                                              #renvoie le tableau des interactions\n",
    "\n",
    "def test_lecture_reseau():\n",
    "    assert lecture_reseau('files/Communaute1.csv') == ['Giedrius', 'Mady', 'Kirsa', 'Vittore', 'Barbra', 'Faizel', 'Vittorio', 'Vittore', 'Louis', 'Placide', 'Vittorio', 'Barbra', 'Cloe', 'Björn', 'Vittore', 'Barbra', 'Mady', 'Rufino', 'Cloe', 'Vittorio', 'Vittorio', 'Placide', 'Olavi', 'Rufino', 'Vittore', 'Cloe', 'Teodor', 'Cloe', 'Louis', 'Cloe', 'Idelle', 'Mady', 'Illtyd', 'Giedrius', 'Teodor', 'Olavi', 'Vittore', 'Mady', 'Rufino', 'Giedrius', 'Placide', 'Louis', 'Louis', 'Vittorio', 'Giedrius', 'Glenys', 'Björn', 'Olavi', 'Faizel', 'Placide', 'Rufino', 'Illtyd', 'Placide', 'Louis', 'Kirsa', 'Vittorio', 'Mady', 'Placide', 'Illtyd', 'Olavi', 'Vittorio', 'Placide', 'Cloe', 'Mady', 'Rufino', 'Vittorio', 'Placide', 'Rufino', 'Rufino', 'Vittorio', 'Giedrius', 'Illtyd', 'Rufino', 'Teodor', 'Olavi', 'Rufino', 'Placide', 'Jakob', 'Cloe', 'Björn', 'Barbra', 'Kirsa', 'Idelle', 'Cloe', 'Rufino', 'Illtyd', 'Rufino', 'Faizel', 'Rufino', 'Louis', 'Björn', 'Cloe', 'Vittorio', 'Olavi', 'Vittorio', 'Mady', 'Glenys', 'Cloe', 'Björn', 'Idelle', 'Mady', 'Björn', 'Barbra', 'Vittorio', 'Louis', 'Björn', 'Mady', 'Vittorio', 'Illtyd', 'Olavi', 'Olavi', 'Barbra', 'Björn', 'Giedrius', 'Mady', 'Placide', 'Faizel', 'Barbra', 'Marwa', 'Idelle', 'Placide', 'Olavi', 'Olavi', 'Placide', 'Cain', 'Vittorio', 'Louis', 'Placide', 'Jakob', 'Kirsa', 'Barbra', 'Marwa', 'Vittorio', 'Louis', 'Idelle', 'Illtyd', 'Louis', 'Giedrius', 'Olavi', 'Barbra', 'Mady', 'Barbra', 'Barbra', 'Rufino', 'Cloe', 'Barbra', 'Louis', 'Björn', 'Cloe', 'Björn', 'Mady', 'Barbra', 'Rufino', 'Björn', 'Kirsa', 'Vittore', 'Björn', 'Faizel', 'Jakob', 'Kirsa', 'Cloe', 'Vittore', 'Vittore', 'Björn', 'Björn', 'Teodor', 'Barbra', 'Rufino', 'Louis', 'Rufino', 'Vittorio', 'Mady', 'Olavi', 'Teodor', 'Teodor', 'Mady', 'Faizel', 'Olavi', 'Björn', 'Cloe', 'Cloe', 'Idelle', 'Barbra', 'Louis', 'Barbra', 'Vittore', 'Giedrius', 'Vittorio', 'Placide', 'Cain', 'Vittore', 'Louis', 'Mady', 'Jakob', 'Barbra', 'Vittore', 'Björn', 'Mady', 'Placide', 'Rufino', 'Placide', 'Cloe', 'Vittorio', 'Barbra', 'Illtyd', 'Rufino', 'Vittore', 'Louis', 'Olavi', 'Louis']\n",
    "    print('La fonction lecture_reseau() est OK !')\n",
    "\n",
    "test_lecture_reseau()"
   ]
  },
  {
   "cell_type": "markdown",
   "metadata": {
    "deletable": false,
    "editable": false,
    "run_control": {
     "frozen": true
    }
   },
   "source": [
    "#### Question 4 : Modélisation d'un réseau par un dictionnaire\n",
    "On préfère pour la suite, utiliser une modélisation du réseau social par un dictionnaire dont où les clés sont les prénoms des personnes du réseau et la valeur associé à une clé est le tableau des amis de la personne indiquée par la clé.\n",
    "\n",
    "- A partir d'un tableau `amis` modélisant les interactions entre personnes d'un réseau, écrire une fonction `dico_reseau(amis)` qui retourne un dictionnaire dont les clés sont les prénoms des membres du réseau et les valeurs le tableau de leurs amis."
   ]
  },
  {
   "cell_type": "code",
   "execution_count": 9,
   "metadata": {},
   "outputs": [
    {
     "name": "stdout",
     "output_type": "stream",
     "text": [
      "La fonction dico_reseau() est OK !\n"
     ]
    }
   ],
   "source": [
    "def dico_reseau(amis):\n",
    "    \"\"\"\n",
    "       fonction créant un dictionnaire {prenom : tableau de ses amis}\n",
    "       Entrées : amis (un tableau)\n",
    "       renvoie dico (dictionnaire)\n",
    "    \"\"\"\n",
    "    taille = []                                        #iniatialise un tableau vide\n",
    "    for i in range(len(amis)):                         #boucle parcourant les indices de amis\n",
    "        if amis[i] not in taille:                      #verifie si le prenom est déjà présent dans taille\n",
    "            taille.append(amis[i])                     #si non, ajoute prenom a taille\n",
    "    dico = {}                                          #initialise un dictionnaire vide\n",
    "    for prenom in taille:                              #boucle parcourant les prenoms de taille\n",
    "        dico[prenom] = []                              #creer une cle prenom pour valeur un tableau vide\n",
    "        for i in range(len(amis)):                     #boucle parcourant les indices de amis\n",
    "            if amis[i] == prenom:                      #verifie element de amis = prenom\n",
    "                if i % 2 == 1:                         #verifie si indice est impair\n",
    "                    dico[prenom].append(amis[i-1])     #si oui, ajoute prenom precedent au tableau\n",
    "                else:                                  #\n",
    "                    dico[prenom].append(amis[i+1])     #sinon, ajout le suivant\n",
    "    return dico                                        #renvoie le dictionnaire dico\n",
    "    \n",
    "def test_dico_reseau():\n",
    "    assert dico_reseau(p_amis) == {'Muriel': ['Yasmine', 'Joël'], 'Yasmine': ['Muriel', 'Joël', 'Thomas'], 'Joël': ['Muriel', 'Yasmine', 'Nassim', 'Andrea', 'Ali'], 'Thomas': ['Yasmine', 'Daria', 'Carole'], 'Nassim': ['Joël', 'Andrea', 'Ali'], 'Andrea': ['Joël', 'Nassim', 'Ali', 'Valentin'], 'Ali': ['Joël', 'Nassim', 'Andrea'], 'Daria': ['Thomas'], 'Carole': ['Thomas'], 'Thierry': ['Axel', 'Léo'], 'Axel': ['Thierry', 'Léo'], 'Léo': ['Axel', 'Thierry', 'Valentin'], 'Valentin': ['Léo', 'Andrea']}\n",
    "    assert dico_reseau(amis) == {'Alice': ['Bob', 'Charlie'], 'Bob': ['Alice', 'Denis'], 'Charlie': ['Alice'], 'Denis': ['Bob']}\n",
    "    print('La fonction dico_reseau() est OK !')\n",
    "\n",
    "test_dico_reseau()"
   ]
  },
  {
   "cell_type": "markdown",
   "metadata": {
    "deletable": false,
    "editable": false,
    "run_control": {
     "frozen": true
    }
   },
   "source": [
    "#### Question 5 : Nombre d'amis des personnes les plus populaires\n",
    "\n",
    "- A partir d'un dictionnaire `dico_reseau` modélisant les interactions dans un réseau d'amis, écrire une fonction `nb_amis_plus_pop (dico_reseau)` qui retourne le nombre d'amis des personnes les plus populaires du réseau."
   ]
  },
  {
   "cell_type": "code",
   "execution_count": 7,
   "metadata": {},
   "outputs": [
    {
     "name": "stdout",
     "output_type": "stream",
     "text": [
      "La fonction nb_amis_plus_pop() est OK !\n"
     ]
    }
   ],
   "source": [
    "def nb_amis_plus_pop(dico_reseau):\n",
    "    \"\"\"\n",
    "       fonction retourne le nombre d'amis des personnes les plus populaires\n",
    "       Entrées : dico_reseau (un dictionnaire)\n",
    "       renvoie nb_amis (entier) qui est son nombre d'amis\n",
    "    \"\"\"\n",
    "    valeurs = list(dico_reseau.values())        #creer un tableau avec pour valeur les valeurs du dico_reseau \n",
    "    nb_amis = 0                                 #initialise un nombre d'amis\n",
    "    for i in range(len(valeurs)):               #boucle parcourant les indices de valeurs\n",
    "        if len(valeurs[i]) > nb_amis:           #verifie si nombre amis du prenom est superieur a celui deja connu\n",
    "            nb_amis = len(valeurs[i])           #si oui, modifie celui connu au nombre d'amis du prenom\n",
    "    return nb_amis                              #renvoie nb_amis\n",
    "        \n",
    "def test_nb_amis_plus_pop():\n",
    "    assert nb_amis_plus_pop(dico_reseau(p_amis)) == 5\n",
    "    assert nb_amis_plus_pop(dico_reseau(lecture_reseau('files/Communaute1.csv'))) == 18\n",
    "    print('La fonction nb_amis_plus_pop() est OK !')\n",
    "\n",
    "test_nb_amis_plus_pop()  "
   ]
  },
  {
   "cell_type": "markdown",
   "metadata": {
    "deletable": false,
    "editable": false,
    "run_control": {
     "frozen": true
    }
   },
   "source": [
    "#### Question 6 : Personnes les plus populaires\n",
    "\n",
    "- A partir d'un dictionnaire `dico_reseau` modélisant les interactions dans un réseau d'amis, écrire une fonction `les_plus_pop (dico_reseau)` qui retourne un tableau contenant les prénoms de toutes les personnes les plus populaires du réseau."
   ]
  },
  {
   "cell_type": "code",
   "execution_count": 10,
   "metadata": {},
   "outputs": [
    {
     "name": "stdout",
     "output_type": "stream",
     "text": [
      "La fonction les_plus_pop() est OK !\n"
     ]
    }
   ],
   "source": [
    "def les_plus_pop(dico_reseau):\n",
    "    \"\"\"\n",
    "       fonction créant un tableau avec les prénoms des personnes populaire\n",
    "       Entrées : dico_reseau (un dictionnaire)\n",
    "       renvoie tab (un tableau)\n",
    "    \"\"\"\n",
    "    valeurs = list(dico_reseau.values())        #création de tableau contenant les valeurs de dico_reseau\n",
    "    cles = list(dico_reseau)                    #création de tableau contenant les clés de dico_reseau\n",
    "    nb = 0                                      #initialisation de nb\n",
    "    for i in range(len(dico_reseau)):           #boucle parcourant les indices de dico_reseau\n",
    "        if len(valeurs[i]) > nb:                #vérifie si le nombre d'amis de la personne(i) est supérieurs à celui déjà connu\n",
    "            nb = len(valeurs[i])                #si oui, écrase nb par le nombre d'amis de cette personnes\n",
    "            tab = [cles[i]]                     #et initialise un tableau avec le prénom de la personne potentiellement populaire\n",
    "        elif len(valeurs[i]) == nb:             #sinon, si le nombre d'amis de cette personne = à celui déjà connu\n",
    "            tab.append(cles[i])                 #ajoute le prénom au tableau des personnes les plus populaires\n",
    "    return tab                                  #renvoie tab\n",
    "\n",
    "def test_les_plus_pop():\n",
    "    assert les_plus_pop(dico_reseau(p_amis)) == ['Joël']\n",
    "    assert les_plus_pop(dico_reseau(lecture_reseau('files/Communaute1.csv'))) == ['Barbra', 'Vittorio', 'Rufino']\n",
    "    print('La fonction les_plus_pop() est OK !')\n",
    "    \n",
    "test_les_plus_pop()"
   ]
  }
 ],
 "metadata": {
  "kernelspec": {
   "display_name": "Python 3 (ipykernel)",
   "language": "python",
   "name": "python3"
  },
  "language_info": {
   "codemirror_mode": {
    "name": "ipython",
    "version": 3
   },
   "file_extension": ".py",
   "mimetype": "text/x-python",
   "name": "python",
   "nbconvert_exporter": "python",
   "pygments_lexer": "ipython3",
   "version": "3.9.12"
  },
  "latex_envs": {
   "LaTeX_envs_menu_present": true,
   "autoclose": false,
   "autocomplete": true,
   "bibliofile": "biblio.bib",
   "cite_by": "apalike",
   "current_citInitial": 1,
   "eqLabelWithNumbers": true,
   "eqNumInitial": 1,
   "hotkeys": {
    "equation": "Ctrl-E",
    "itemize": "Ctrl-I"
   },
   "labels_anchors": false,
   "latex_user_defs": false,
   "report_style_numbering": false,
   "user_envs_cfg": false
  }
 },
 "nbformat": 4,
 "nbformat_minor": 4
}
