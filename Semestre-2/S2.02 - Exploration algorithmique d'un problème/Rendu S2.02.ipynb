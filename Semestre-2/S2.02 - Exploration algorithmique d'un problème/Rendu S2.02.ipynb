{
 "cells": [
  {
   "cell_type": "markdown",
   "id": "79d6b9c4",
   "metadata": {},
   "source": [
    "<div id=\"haut2page\" style=\"border:3px solid black; padding:3%; font-size:314% ; text-align:center; color:white; background-color:black;\">\n",
    "    SAÉ202<br><br>Exploration algorithmique d'un problème<br>\n",
    "</div>"
   ]
  },
  {
   "cell_type": "markdown",
   "id": "e6350491",
   "metadata": {},
   "source": [
    "<p>L'objectif de cette SAE est d'explorer la représentation de l'ensemble de <a href=\"https://fr.wikipedia.org/wiki/Ensemble_de_Mandelbrot\">Mandelbrot</a>. A cette fin, nous développons le langage des nombres complexes.</p>\n",
    "\n",
    "<p>Votre évaluation est divisée en deux partie : \n",
    "<ul>\n",
    "    <li>Votre travail en travaux pratique : ce TP est évalué en continue. Vous présenterez vos avancés à votre enseignant au fure et à mesure et serez évalué sur vos résultats.</li>\n",
    "    <li>Votre travail en autonomie : ce notebook contient du cours et des exercices qu'il vous appartient de vous approprier et de poser les questions qui s'imposent à vos enseignants. Vous aurez une évaluation sur la partie mathématiques de ce contenu (pas d'évaluation sur le python).</li>\n",
    "</ul>\n",
    "</p>"
   ]
  },
  {
   "cell_type": "markdown",
   "id": "faea128a",
   "metadata": {},
   "source": [
    "<div style=\"border:3px solid black; padding:3%; font-size:314% ; text-align:center; color:white; background-color:black;\">\n",
    "    Bibliothèque <code>math</code>\n",
    "</div>"
   ]
  },
  {
   "cell_type": "markdown",
   "id": "3018ddf6",
   "metadata": {},
   "source": [
    "<p>Pour réaliser des opérations mathématiques nous auront besoin de la bibliothèque éponyme. Executez la case suivante pour charger ses fonctionnalités</p>"
   ]
  },
  {
   "cell_type": "code",
   "execution_count": 1,
   "id": "c30054b6",
   "metadata": {},
   "outputs": [],
   "source": [
    "from math import *"
   ]
  },
  {
   "cell_type": "markdown",
   "id": "d7868bd0",
   "metadata": {},
   "source": [
    "<p>Une fois chargée, voici ce que vous pouvez à présent faire:\n",
    "\n",
    "<table>\n",
    "    <tr>\n",
    "        <th>Mathématiques</th>\n",
    "        <th>Python</th>\n",
    "    </tr>\n",
    "    <tr>\n",
    "        <td>$|x|$</td>\n",
    "        <td><code>abs(x)</code></td>\n",
    "    </tr>\n",
    "    <tr>\n",
    "        <td>$\\sqrt{x}$</td>\n",
    "        <td><code>sqrt(x)</code></td>\n",
    "    </tr>\n",
    "    <tr>\n",
    "        <td>$e^x$</td>\n",
    "        <td><code>exp(x)</code></td>\n",
    "    </tr>\n",
    "    <tr>\n",
    "        <td>$ln(x)$</td>\n",
    "        <td><code>log(x)</code></td>\n",
    "    </tr>\n",
    "    <tr>\n",
    "        <td>$log(x)$</td>\n",
    "        <td><code>log10(x)</code></td>\n",
    "    </tr>\n",
    "    <tr>\n",
    "        <td>$cos(x)$</td>\n",
    "        <td><code>cos(x)</code></td>\n",
    "    </tr>\n",
    "    <tr>\n",
    "        <td>$sin(x)$</td>\n",
    "        <td><code>sin(x)</code></td>\n",
    "    </tr>\n",
    "    <tr>\n",
    "        <td>$tan(x)$</td>\n",
    "        <td><code>tan(x)</code></td>\n",
    "    </tr>\n",
    "    <tr>\n",
    "        <td>$Arctan(x)$</td>\n",
    "        <td><code>atan(x)</code></td>\n",
    "    </tr>\n",
    "    <tr>\n",
    "        <td>$\\pi$</td>\n",
    "        <td><code>pi</code></td>\n",
    "    </tr>\n",
    "    <tr>\n",
    "        <td>$e(=e^1)$</td>\n",
    "            <td><code>e</code></td>\n",
    "    </tr>\n",
    "    <tr>\n",
    "        <td>$x^y$</td>\n",
    "        <td><code>pow(x, y)</code></td>\n",
    "    </tr>\n",
    "    <tr>\n",
    "        <td>$n!$</td>\n",
    "        <td><code>factorial(n)</code></td>\n",
    "    </tr>\n",
    "</table>\n",
    "</div>\n",
    "</p>"
   ]
  },
  {
   "cell_type": "markdown",
   "id": "f327473e",
   "metadata": {},
   "source": [
    "<h3>Exercice</h3>\n",
    "<ol>\n",
    "    <li>Donner une valeur approchée de $\\sqrt{2}$.</li>\n",
    "    <li>Donner une valeur approchée du <a href=\"https://fr.wikipedia.org/wiki/Nombre_d%27or\">nombre d'or</a>.</li>\n",
    "    <li>Donner une valeur approchée de $sin(666)$.</li>\n",
    "    <li>Donner une valeur approchée d'un angle $\\vartheta$ tel que $tan(\\vartheta)=\\sqrt{3}$.</li>\n",
    "    <li>Donner une valeur approchée de $tan\\left(\\dfrac{\\pi}{2}\\right)$.</li>\n",
    "    <li>Donner la valeur de $1983!$.</li>\n",
    "</ol>"
   ]
  },
  {
   "cell_type": "code",
   "execution_count": 2,
   "id": "f880b826",
   "metadata": {},
   "outputs": [
    {
     "name": "stdout",
     "output_type": "stream",
     "text": [
      "1. La valeur approchée de la racine carré de 2 est environ : 1.4142\n",
      "2. La valeur approchée du nombre d'or est environ : 1.618\n",
      "3. La valeur approchée de sin(666) est environ : -0.0176\n",
      "4. La valeur approchée de l'angle ϑ est environ : 1.0472\n",
      "5. La valeur approchée de tan(π/2) est environ : 1.633123935319537e+16\n",
      "6. La valeur de 1983! : 2708658145231884521851046419370163779878143255113928710317984868030029200552334349754298763607465516572970305674490350631476557540732094674462332478659703490901643312049415349640949021152597056044870095541948992615042417673014111656141364739786128007948967492982780003134831911425370753136252676561116166841812666304927981434374115623224767303483270207156766548203389716145765682544150968490006388020680375977176231850051712778101386147710547804853313329416341380152821487309756298429185095110100819439378342276323424657377141750458150853732785927260898926685692117673950624122973780359123541948444224417451307680824397571201393867781141723495525685078154822494858584643841361655426624638359650293769134524463919808675388851748430903759473600790496703422295615730017961776275469412771613357123203885739905750470560836815840366090616656411852713247418728864634195889854537683320084325684289004127137470739316906570077318215878367072167251905374801259806200924204304450275921706269909004604585012749183318781312368157837430280980207391149200278252114063109005141569773449371340593939729168719297238942528236609078858046180486005916991703225130067737782838153065605178320481952972375112785789419414450907827258765267298975108276007090097684183231381766362673800977404675432818816344619888581006972869225334819441438937815599799865302574540854689596517031383873209458587722516607491331260312301281902424568934078266109107956980319660970651459459918031876404692134605539045591950988131758144900398731465245200754673362711601811934105034535979622379106963103049600707706837645730723621480959233866353510800520655366949957925602503041727743155604935554975061727968100491818287994652799086134385765968564739118444981252812035122683872446721528169450073267634215325268573101173910858142669316652298758877686840606813260198272309292134432476965928802679798983337645106728643203951318292543679455929056666123614433684942624284362956738641345717180259019408430462703121010223038792177519323935172685220001429314110255095968749184973128032544051850902885236518768326859291872154732983036178847743468478067678712109156361888369795925875433624560871940936260717013269015954199269808568178854961407479278153773681799374104475288952736500471787588050245933564116660943312874659268313030011932726546236411833251519053297012759585637917664276774145981285431162034224758833975846347810961476555934983087783571443100061161473414914949281773035067971821865761608654818452786134147629717973263339981143093499648354419589238479318774987569408127345505241991791963977067296339674369109387781483866537148568336136707798970375409629219604999016570614630949805751571147017416100176070324053434711979645316789279902299774508956725212299890752199438016657293515445654427507597779616608096060319063564173673717220545745239818243997946336588046951125111348888273508932851182567524036687467653008800752239128230289489925818903412841276237658171804283396352128272489355112177125866230277894157147374011525669505747591489062249398340784360853720343725689367928517834187814261615329553138817393851480933202678605466599450087394421612827051010029925398132843717103389984817342088286632326453345640188192503232942023384522684337870086132743152207529060212270117694430412824881964650397951791973189405784809660479352534511168875393833472103228188705575637123202873292032434774195876909573355790507113166524353406343284094436668110495516656069703543942379099116854971302686563753960442286639923846476049434326198158836952553006014784824933903950925212462469772944871213564302075494503315210672405615672050726982094847793510772662139901530835411785347842280322618932832414758074105302234300540858385242729724962487621778873869107381718809433037345035495988926510639905831895728487774486466708978554323391762025795217091992769134048116765164644813894739038749426555519758036025522810128383793544341726797930378967822322352627271703718790368328655147627371585155938505282824594754397795322148177959640342191410693913935478368962177968541252590626090058747289298897906417072628413936771078024610512527876905101976958620404587526355754565167224353944293669486434633998322050517933840553698851646921621059456618706137239335466196130185851242756630577123187829922815779449168496876498319476088285084103237370212988507738195493524976856307714862325527596137340260690840375200531904464984431641996493394081777919911206049124420812763695986593937313502617214672551174414895221561154718496598041043697183847803231784778464081052801724373965308775109797747409225868722525833690477213871264192582858421595967394137501532645431567209128269636126321860350628998227919726176689037468822955876903562288945141333544086541345956968211061450002836474230198614440774370503386555022367110064505359176055275294525652403996108727650114950079467772408337041106067241778009611212470649752630805972351682125269650820698500366333383778648762834539429635998543156533961218682392147021176339923810231465941996913494184983138542340194687529584807336620006054809671421760595323754326322322327087614719900941186271559791907380061595655398070387605189062116284878198055072191567810144311085659125986892586762262277576811903828442315058550343298609493022164910080000000000000000000000000000000000000000000000000000000000000000000000000000000000000000000000000000000000000000000000000000000000000000000000000000000000000000000000000000000000000000000000000000000000000000000000000000000000000000000000000000000000000000000000000000000000000000000000000000000000000000000000000000000000000000000000000000000000000000000000000000000000000000000000000000000000000000000000000000000000000000000000000000000000000000000000000000000000000000000000000000000000000\n"
     ]
    }
   ],
   "source": [
    "print(\"1. La valeur approchée de la racine carré de 2 est environ :\", round(sqrt(2),4))\n",
    "print(\"2. La valeur approchée du nombre d'or est environ :\", round( (1 + sqrt(5)) / 2, 4))\n",
    "print(\"3. La valeur approchée de sin(666) est environ :\", round(sin(666),4))\n",
    "print(\"4. La valeur approchée de l'angle ϑ est environ :\", round(atan(sqrt(3)),4))\n",
    "print(\"5. La valeur approchée de tan(π/2) est environ :\", round(tan(pi/2), 4))\n",
    "print(\"6. La valeur de 1983! :\", factorial(1983))"
   ]
  },
  {
   "cell_type": "markdown",
   "id": "63504431",
   "metadata": {},
   "source": [
    "<div style=\"border:3px solid black; padding:3%; font-size:314% ; text-align:center; color:white; background-color:black;\">\n",
    "    Graphiques en python\n",
    "</div>"
   ]
  },
  {
   "cell_type": "markdown",
   "id": "61c841d8",
   "metadata": {},
   "source": [
    "<h1>Première partie : les listes</h1>\n",
    "<p>Pour pouvoir réaliser des graphiques en python, nous avons besoin de spécifier des listes (de points). La fonction de base est la fonction <code style=\"color:green\">range</code> qui permet très rapidement d'énumeré des entiers (et non des nombres décimaux). Voici les trois utilisations possible : \n",
    "<ol>\n",
    "    <li><code><span style=\"color:green\">range</span>(n)</code> qui donne la liste des entiers de <code>0</code> à <code>n-1</code>. Par exemple <code><span style=\"color:green\">range</span>(10)</code> donnera <code>[0, 1, 2, 3, 4, 5, 6, 7, 8, 9]</code> </li>\n",
    "    <li><code><span style=\"color:green\">range</span>(a, b)</code> qui donne la liste des entiers entre <code>a</code> et <code>b-1</code>. Par exemple <code><span style=\"color:green\">range</span>(3, 10)</code> donnera <code>[3, 4, 5, 6, 7, 8, 9]</code> </li>\n",
    "    <li><code><span style=\"color:green\">range</span>(a, b, p)</code> qui donne la liste des entiers entre <code>a</code> et <code>b-1</code> par bond de <code>p</code>. Par exemple <code><span style=\"color:green\">range</span>(3, 10, 3)</code> donnera <code>[3, 6, 9]</code> </li>\n",
    "</ol>\n",
    "</p>"
   ]
  },
  {
   "cell_type": "markdown",
   "id": "34b50aa7",
   "metadata": {},
   "source": [
    "<h3>\n",
    "    Exercice\n",
    "</h3>    \n",
    "<p>Donner les entiers entre $0$ et $1983$ qui sont dans la table de $23$ (il y en a 87).</p>"
   ]
  },
  {
   "cell_type": "code",
   "execution_count": 3,
   "id": "13036347",
   "metadata": {},
   "outputs": [
    {
     "name": "stdout",
     "output_type": "stream",
     "text": [
      "[0, 23, 46, 69, 92, 115, 138, 161, 184, 207, 230, 253, 276, 299, 322, 345, 368, 391, 414, 437, 460, 483, 506, 529, 552, 575, 598, 621, 644, 667, 690, 713, 736, 759, 782, 805, 828, 851, 874, 897, 920, 943, 966, 989, 1012, 1035, 1058, 1081, 1104, 1127, 1150, 1173, 1196, 1219, 1242, 1265, 1288, 1311, 1334, 1357, 1380, 1403, 1426, 1449, 1472, 1495, 1518, 1541, 1564, 1587, 1610, 1633, 1656, 1679, 1702, 1725, 1748, 1771, 1794, 1817, 1840, 1863, 1886, 1909, 1932, 1955, 1978] \n",
      "\n",
      "Le nombre de valeur est de 87\n"
     ]
    }
   ],
   "source": [
    "tab = [i for i in range(0, 1983, 23)]\n",
    "print(tab,  \"\\n\\nLe nombre de valeur est de\", len(tab))"
   ]
  },
  {
   "cell_type": "markdown",
   "id": "faacefc9",
   "metadata": {},
   "source": [
    "<p>Il est possible de créer des listes de nombres pas forcément entiers de la manière suivante : \n",
    "<blockquote>\n",
    "    <code>y=[<em>fonction de x</em> for x in <em>valeur</em>]</code>\n",
    "</blockquote>\n",
    "Dans ce cas la liste <code>y</code> aura dans chacune de ses cases la valeur de <code>f(x)</code> pour les différentes valeurs prises par <code>x</code>. Voici des exemples :\n",
    "<ol><li>\n",
    "<blockquote>\n",
    "    <code>y=[x**2/10 for x in range(1, 10, 2)]</code>\n",
    "</blockquote>\n",
    "alors \n",
    "<code>y=[0.1, 0.9, 2.5, 4.9, 8.1]</code>\n",
    "</li>\n",
    "    \n",
    "<li>\n",
    "<blockquote>\n",
    "    <code>z=[pow(abs(t), t/2 ) for t in range(-10, 10, 1)]</code>\n",
    "</blockquote>\n",
    "alors \n",
    "<code>z=[1e-05, 5.080526342529086e-05, 0.000244140625, 0.001101937239093957, 0.004629629629629629, 0.01788854381999832, 0.0625, 0.19245008972987526, 0.5, 1.0, 1.0, 1.0, 2.0, 5.196152422706632, 16.0, 55.90169943749474, 216.0, 907.4926996951546, 4096.0, 19683.0]</code>\n",
    "</li>\n",
    "    \n",
    "</ol>\n",
    "</p>"
   ]
  },
  {
   "cell_type": "markdown",
   "id": "b1bc7438",
   "metadata": {},
   "source": [
    "<h1>Seconde partie : Les graphiques</h1>\n",
    "<p>Comme pour les fonctions, il faut définir la fenêtre de graphique. Par chance, d'autre s'en sont occupés. Chargeons cette fonctionnalité : exécuter la case suivante.</p>"
   ]
  },
  {
   "cell_type": "code",
   "execution_count": 4,
   "id": "807ccab3",
   "metadata": {},
   "outputs": [],
   "source": [
    "from matplotlib.pyplot import *"
   ]
  },
  {
   "cell_type": "markdown",
   "id": "0a95a181",
   "metadata": {},
   "source": [
    "<p>Pour faire un graphique rien de plus simple ! On utilise la fonction <code>plot</code> qui prend au moins deux paramètres : \n",
    "<ol>\n",
    "     <li>Le premier est la liste des points d'abscisses</li>\n",
    "     <li>La seconde est la liste des points d'ordonnées</li>\n",
    "</ol>\n",
    "Voici un exemple : \n",
    "</p>"
   ]
  },
  {
   "cell_type": "code",
   "execution_count": 5,
   "id": "d566eca2",
   "metadata": {},
   "outputs": [
    {
     "data": {
      "image/png": "[encoded data removed]",
      "text/plain": [
       "<Figure size 432x288 with 1 Axes>"
      ]
     },
     "metadata": {
      "needs_background": "light"
     },
     "output_type": "display_data"
    }
   ],
   "source": [
    "X=[x/10 for x in range(-10, 10)] #On calcule les abscisses\n",
    "Y=[x**3 for x in X]#On calcule les ordonnées\n",
    "plot(X, Y)#On fait le dessin\n",
    "show()#On affiche le dessin"
   ]
  },
  {
   "cell_type": "markdown",
   "id": "184038e2",
   "metadata": {},
   "source": [
    "<h3>Exercice</h3>\n",
    "<p>Dessiner la fonction exponentielle sur $[-10, 2]$</p>"
   ]
  },
  {
   "cell_type": "code",
   "execution_count": 217,
   "id": "813558a9",
   "metadata": {},
   "outputs": [
    {
     "data": {
      "image/png": "[encoded data removed]",
      "text/plain": [
       "<Figure size 432x288 with 1 Axes>"
      ]
     },
     "metadata": {
      "needs_background": "light"
     },
     "output_type": "display_data"
    }
   ],
   "source": [
    "A = [i/10 for i in range(-100,30)]\n",
    "B = [exp(i) for i in A]\n",
    "plot(A, B)\n",
    "show()"
   ]
  },
  {
   "cell_type": "markdown",
   "id": "73deb337",
   "metadata": {},
   "source": [
    "<h3>Quelques fonctionnalités supplémentaires</h3>\n",
    "<ul>\n",
    "    <li><code>grid(<span style=\"color:green\">True</span>)</code> permet d'afficher une grille dans le graphique. Exemple : \n",
    "    <blockquote><code>plot(X, Y)<br>grid(<span style=\"color:green\">True</span>)</code></blockquote>\n",
    "    </li>\n",
    "    <li>On peut modifier la couleur de la courbre en ajoutant un paramètre à la fonction <code>plot</code>, comme dans l'exemple suivant : \n",
    "        <blockquote><code>plot(X, Y, 'k')</code></blockquote>\n",
    "    Les différentes couleurs prédéfinies sont : \n",
    "    <table>\n",
    "        <tr>\n",
    "            <th>Couleur</th>\n",
    "            <th>Code</th>\n",
    "        </tr>\n",
    "        <tr>\n",
    "            <td>Bleu</td>\n",
    "            <td><code>'b'</code></td>\n",
    "        </tr>\n",
    "        <tr>\n",
    "            <td>Vert</td>\n",
    "            <td><code>'g'</code></td>\n",
    "        </tr>\n",
    "        <tr>\n",
    "            <td>Rouge</td>\n",
    "            <td><code>'r'</code></td>\n",
    "        </tr>\n",
    "        <tr>\n",
    "            <td>Cyan</td>\n",
    "            <td><code>'c'</code></td>\n",
    "        </tr>\n",
    "        <tr>\n",
    "            <td>Magenta</td>\n",
    "            <td><code>'m'</code></td>\n",
    "        </tr>\n",
    "        <tr>\n",
    "            <td>Jaune</td>\n",
    "            <td><code>'y'</code></td>\n",
    "        </tr>\n",
    "        <tr>\n",
    "            <td>Noir</td>\n",
    "            <td><code>'k'</code></td>\n",
    "        </tr>\n",
    "        <tr>\n",
    "            <td>Blanc</td>\n",
    "            <td><code>'w'</code></td>\n",
    "        </tr>\n",
    "    </table>\n",
    "    </li>\n",
    "    <li>On peut préciser le style de la ligne parmi les choix suivant : \n",
    "    <table>\n",
    "        <tr>\n",
    "            <th>Style</th>\n",
    "            <th>Code</th>\n",
    "        </tr>\n",
    "        <tr>\n",
    "            <td>Ligne continue (par défaut)</td>\n",
    "            <td><code>'-'</code></td>\n",
    "        </tr>\n",
    "        <tr>\n",
    "            <td>Tiret</td>\n",
    "            <td><code>'--'</code></td>\n",
    "        </tr>\n",
    "        <tr>\n",
    "            <td>Pointillé</td>\n",
    "            <td><code>':'</code></td>\n",
    "        </tr>\n",
    "    </table>\n",
    "        <blockquote><code>plot(X, Y, ':')<br></code></blockquote>\n",
    "        <b>ATTENTION</b> cependant ! Si vous voulez modifier la couleur et le style du trait, il faut le faire en même temps. De sorte que <code>plot(X, Y, ':', 'r')</code> est une erreur. On corrigera par\n",
    "        <blockquote><code>plot(X, Y, 'r:')<br></code></blockquote>\n",
    "        </li>\n",
    "    <li>La fonction <code>plot(X, Y)</code> place par défaut des points (ceux de <code>X</code> et <code>Y</code>) et les relie par des traits (où d'autre style comme nous l'avons vu précédement). On peut changer le style des marques parmi ceux de la liste suivante : \n",
    "    <table>\n",
    "        <tr>\n",
    "            <th>Marqueur</th>\n",
    "            <th>Code</th>\n",
    "        </tr>\n",
    "        <tr>\n",
    "            <td>Point (par défaut)</td>\n",
    "            <td><code>'.'</code></td>\n",
    "        </tr>\n",
    "        <tr>\n",
    "            <td>Cercle</td>\n",
    "            <td><code>'o'</code></td>\n",
    "        </tr>\n",
    "        <tr>\n",
    "            <td>Triangle vers le bas</td>\n",
    "            <td><code>'v'</code></td>\n",
    "        </tr>\n",
    "        <tr>\n",
    "            <td>Triangle vers le haut</td>\n",
    "            <td><code>'^'</code></td>\n",
    "        </tr>\n",
    "        <tr>\n",
    "            <td>Triangle vers la gauche</td>\n",
    "            <td><code>'<'</code></td>\n",
    "        </tr>\n",
    "        <tr>\n",
    "            <td>Triangle vers la droite</td>\n",
    "            <td><code>'>'</code></td>\n",
    "        </tr>\n",
    "        <tr>\n",
    "            <td>Carré</td>\n",
    "            <td><code>'s'</code></td>\n",
    "        </tr>\n",
    "        <tr>\n",
    "            <td>Pentagone</td>\n",
    "            <td><code>'p'</code></td>\n",
    "        </tr>\n",
    "        <tr>\n",
    "            <td>Etoile</td>\n",
    "            <td><code>'*'</code></td>\n",
    "        </tr>\n",
    "        <tr>\n",
    "            <td>Plus</td>\n",
    "            <td><code>'+'</code></td>\n",
    "        </tr>\n",
    "        <tr>\n",
    "            <td>Croix</td>\n",
    "            <td><code>'x'</code></td>\n",
    "        </tr>\n",
    "        <tr>\n",
    "            <td>Losange</td>\n",
    "            <td><code>'d'</code></td>\n",
    "        </tr>\n",
    "    </table>\n",
    "        Il en existe quelque autres. Comme pour les styles de traits, il faut déclarer les marqueurs au même moment.\n",
    "        <blockquote><code>plot(X, Y, 'rd:')<br></code></blockquote>\n",
    "    </li>\n",
    "        <li>On peut préciser l'épaisseur de la ligne en ajoutant à la fonction <code>plot</code> la paramètre <code>linewidth</code>.\n",
    "    <blockquote><code>plot(X, Y, linewidth=5)<br></code></blockquote>\n",
    "    </li>\n",
    "    <li>On peut préciser les bords de la fenêtre de graphique par l'appel des fonction <code>xlim</code> et <code>ylim</code> qui prennent chacun deux paramètres : la plus grande et la plus petite valeur sur les axes respectifs.\n",
    "    <blockquote><code>plot(X, Y)<br>xlim(-1,1)<br>ylim(-10, 10)</code></blockquote>\n",
    "    </li>\n",
    "    <li>On peut donner un titre au graphique par l'appel de la fonction <code>title</code>\n",
    "    <blockquote><code>plot(X, Y)<br>title(\"Graphique de ma fonction\")</code></blockquote>\n",
    "    </li>\n",
    "    <li>On peut déssiner plusieurs fonctions sur un même graphique (par l'appel de plusieurs <code>plot</code> différent). Dans ce cas, pour les disctinguer (en plus des couleurs), on peut légender les différentes courbes. Il y a pour cela deux choses à faire : \n",
    "        <ol>\n",
    "        <li>Donner un titre à la courbe, en ajoutant un <code>label</code> dans <code>plot</code>.</li>\n",
    "        <li>Demander l'affichage de ce <code>label</code>. Pour cela on appel la fonction <code>legend</code> sans paramètre.</li>\n",
    "        </ol>\n",
    "    <blockquote><code>plot(X, Y, label=\"Fonction 1\")<br>plot(X, Z, label=\"Fonction 2\")<br>legend()</code></blockquote>\n",
    "    </li>\n",
    "    <li>On peut aussi labéliser les axes : <code>xlabel</code> pour les abscisses et <code>ylabel</code> pour les ordonnées.\n",
    "    <blockquote><code>plot(X, Y)<br>xlabel(\"Abscisses\")<br>ylabel(\"Ordonnées\")</code></blockquote>\n",
    "    </li>\n",
    "</ul>\n",
    "\n",
    "<p>Voici un exemple qui résume tout <em>(dans les label a été placé du code $\\LaTeX$ qui est un langage d'édition d'équation compris par Jupyter. N'y prétez pas attention, et admirez le résultat)</em>.</p>"
   ]
  },
  {
   "cell_type": "code",
   "execution_count": 7,
   "id": "9a9a932d",
   "metadata": {},
   "outputs": [
    {
     "data": {
      "image/png": "[encoded data removed]",
      "text/plain": [
       "<Figure size 432x288 with 1 Axes>"
      ]
     },
     "metadata": {
      "needs_background": "light"
     },
     "output_type": "display_data"
    }
   ],
   "source": [
    "#Coordonnes des points\n",
    "X=[x/10 for x in range(10+1)]\n",
    "Y=[sqrt(x) for x in X]\n",
    "Z=[x**2 for x in X]\n",
    "\n",
    "#Dessin\n",
    "plot(X, Y, 'cx-', linewidth=1.5, label=\"$x\\mapsto \\sqrt{x}$\")\n",
    "plot(X, Z, 'm^--', label=\"$x\\mapsto x^2$\")\n",
    "plot(X, X, 'r*:', label=\"$x\\mapsto x$\")\n",
    "\n",
    "#Dimension de la fenêtre\n",
    "xlim(0, 1)\n",
    "ylim(0, 1)\n",
    "\n",
    "#Titre et légende\n",
    "title(\"Comparaison entre $x^2$ et $\\sqrt{x}$ sur $[0; 1]$\")\n",
    "xlabel(\"Abscisses\")\n",
    "ylabel(\"Ordonnées\")\n",
    "legend()\n",
    "\n",
    "#Quadrillage\n",
    "grid(True)\n",
    "\n",
    "#Affichage\n",
    "show()"
   ]
  },
  {
   "cell_type": "markdown",
   "id": "c3a7d479",
   "metadata": {},
   "source": [
    "<h3>Exercices</h3>\n",
    "<p>Déssiner $x\\mapsto e^x$ et $x\\mapsto ln(x)$ entre sur $[-2 ; 4]$ (attention le logarithme n'est pas définie (normalement) sur les réels négatifs). Tracer également la droite $x\\mapsto x$ et les axes du repère</p>"
   ]
  },
  {
   "cell_type": "code",
   "execution_count": 220,
   "id": "538e3f93",
   "metadata": {},
   "outputs": [
    {
     "name": "stdout",
     "output_type": "stream",
     "text": [
      "[-2, -1, 0, 1, 2, 3, 4] [0.1353352832366127, 0.36787944117144233, 1.0, 2.718281828459045, 7.38905609893065, 20.085536923187668, 54.598150033144236] [0.1, 1, 2, 3, 4] [-2.3025850929940455, 0.0, 0.6931471805599453, 1.0986122886681098, 1.3862943611198906]\n"
     ]
    },
    {
     "data": {
      "image/png": "[encoded data removed]",
      "text/plain": [
       "<Figure size 432x288 with 1 Axes>"
      ]
     },
     "metadata": {
      "needs_background": "light"
     },
     "output_type": "display_data"
    }
   ],
   "source": [
    "x = [v for v in range(-2,5)]\n",
    "X = [exp(i) for i in x]\n",
    "y = [0.1]\n",
    "y += [l for l in range(1,5)]\n",
    "Y = [log(j) for j in y]\n",
    "\n",
    "print(x,X,y,Y)\n",
    "\n",
    "plot(x, X, 'rv:', label=\"$x\\mapsto e^x$\")\n",
    "plot(y, Y, 'b^--', label=\"$x\\mapsto ln(x)$\")\n",
    "plot(x, x, 'g.-', label=\"$x\\mapsto x$\")\n",
    "\n",
    "xlim(-2,4)\n",
    "ylim(-2,4)\n",
    "\n",
    "title(\"Comparaison entre $e^x$ et $ln(x)$ sur $[-2; 4]$\")\n",
    "xlabel(\"Abscisses\")\n",
    "ylabel(\"Ordonnées\")\n",
    "legend()\n",
    "\n",
    "show()"
   ]
  },
  {
   "cell_type": "markdown",
   "id": "e96813a4",
   "metadata": {},
   "source": [
    "<h1>Troisème partie : les rectangles</h1>\n",
    "\n",
    "<p>Pour aboutir à notre résultat de la réprésentation de l'ensemble de mandelbrot, nous allons réaliser des dessins en pixelart. Pour cela nous allons utiliser la fonction <code>Rectangle( (x, y), longueur, hauteur )</code> qui prend en paramètre : \n",
    "<ul>\n",
    "    <li><code>(x, y)</code> les coordonnées cartésienne du coin inférieur gauche du rectangle</li>\n",
    "    <li><code>longueur</code> la longueur du rectangle</li>\n",
    "    <li><code>hauteur</code> la hauteur du rectangle</li>\n",
    "</ul>\n",
    "</p>"
   ]
  },
  {
   "cell_type": "code",
   "execution_count": 9,
   "id": "a5587557",
   "metadata": {},
   "outputs": [
    {
     "data": {
      "image/png": "[encoded data removed]",
      "text/plain": [
       "<Figure size 360x360 with 1 Axes>"
      ]
     },
     "metadata": {
      "needs_background": "light"
     },
     "output_type": "display_data"
    }
   ],
   "source": [
    "# Crée un graphique vide\n",
    "fig, ax = subplots(figsize=(5, 5))#figsize permet de préciser la taille de la fenetre (largeur, hauteur)\n",
    "\n",
    "# Ajoute un rectangle au graphique\n",
    "rect = Rectangle((0.2, 0.5), 0.4, 0.3, facecolor='red')\n",
    "ax.add_patch(rect)\n",
    "\n",
    "# Affiche le graphique\n",
    "show()"
   ]
  },
  {
   "cell_type": "markdown",
   "id": "41b7a855",
   "metadata": {},
   "source": [
    "<p>Voici des variables contenant des coordonnées de carré à dessiner avec la couleur spécifiée par le nom de la variable. La taille de ces carrés sont de 1 (en longueur et hauteur). On pourra prendre <code>xlim(0, 43)</code>, <code>ylim(0, 28)</code> et <code>figsize=(9, 6)</code>.</p>\n",
    "\n",
    "<p>Représentez ce pixelart.</p>"
   ]
  },
  {
   "cell_type": "code",
   "execution_count": 10,
   "id": "4c2c29f0",
   "metadata": {},
   "outputs": [],
   "source": [
    "BLACK = [[32, 9], [16, 11], [15, 13], [29, 17], [14, 5], [23, 21], [19, 3], [17, 4], [11, 8], [23, 8], [32, 25], [24, 3], [33, 24], [26, 11], [15, 12], [14, 23], [11, 25], [12, 12], [12, 17], [27, 21], [12, 24], [33, 19], [26, 12], [33, 21], [34, 22], [25, 13], [31, 14], [34, 23], [8, 25], [22, 8], [20, 7], [11, 18], [15, 5], [34, 24], [25, 4], [18, 20], [18, 12], [25, 20], [26, 13], [20, 3], [8, 26], [26, 14], [20, 21], [33, 20], [23, 6], [23, 3], [28, 12], [34, 21], [18, 13], [31, 12], [10, 20], [30, 16], [13, 15], [30, 15], [13, 23], [33, 23], [16, 14], [9, 21], [13, 6], [21, 21], [10, 23], [26, 21], [10, 25], [8, 23], [32, 18], [27, 11], [35, 25], [28, 22], [26, 4], [31, 7], [17, 21], [16, 4], [10, 22], [21, 11], [18, 4], [29, 23], [9, 22], [12, 14], [22, 5], [31, 24], [17, 14], [34, 25], [17, 11], [8, 24], [10, 21], [24, 20], [25, 12], [9, 23], [21, 9], [19, 9], [12, 11], [12, 7], [16, 21], [16, 12], [11, 10], [28, 13], [22, 11], [30, 6], [35, 26], [15, 22], [28, 5], [11, 9], [20, 8], [29, 5], [17, 12], [19, 20], [34, 26], [10, 24], [21, 5], [22, 21], [22, 3], [21, 8], [27, 14], [31, 17], [30, 23], [23, 7], [33, 25], [9, 25], [12, 13], [20, 6], [31, 13], [9, 26], [35, 23], [33, 22], [13, 16], [27, 4], [22, 9], [21, 3], [35, 24], [17, 13], [24, 9], [9, 24], [14, 17], [32, 8], [10, 19], [32, 10], [31, 11], [27, 12]]\n",
    "RED = [[28, 10], [14, 9], [15, 8], [29, 8], [30, 9], [28, 8], [29, 7], [29, 9], [14, 7], [28, 7], [13, 9], [13, 8], [30, 8], [22, 6], [15, 10], [29, 10], [16, 8], [28, 9], [16, 9], [15, 9], [21, 6], [27, 9], [14, 10], [22, 7], [21, 7], [27, 8], [15, 7], [14, 8]]\n",
    "YELLOW = [[28, 15], [19, 11], [13, 7], [21, 16], [20, 20], [12, 23], [25, 5], [23, 13], [26, 20], [24, 10], [32, 22], [31, 21], [17, 9], [24, 5], [11, 21], [22, 17], [14, 11], [26, 19], [19, 17], [18, 18], [16, 5], [31, 9], [14, 15], [24, 8], [14, 21], [13, 20], [30, 22], [23, 14], [22, 16], [22, 4], [17, 6], [23, 19], [17, 10], [17, 7], [26, 17], [19, 14], [13, 14], [30, 11], [12, 10], [20, 19], [31, 18], [17, 20], [11, 19], [15, 20], [24, 17], [23, 20], [28, 6], [25, 7], [22, 14], [21, 19], [27, 5], [18, 17], [25, 11], [32, 24], [22, 18], [19, 16], [15, 6], [23, 4], [19, 7], [24, 13], [18, 14], [30, 14], [12, 19], [19, 10], [18, 16], [26, 7], [28, 16], [27, 10], [27, 16], [19, 19], [16, 6], [25, 9], [18, 10], [28, 19], [18, 5], [24, 12], [19, 15], [14, 20], [28, 17], [18, 7], [29, 6], [20, 11], [13, 21], [23, 15], [27, 18], [29, 15], [20, 13], [15, 14], [14, 13], [19, 8], [26, 16], [16, 18], [12, 9], [22, 13], [21, 15], [15, 18], [13, 19], [24, 6], [19, 19], [19, 4], [29, 18], [28, 11], [30, 20], [13, 17], [15, 21], [17, 16], [23, 10], [29, 11], [27, 15], [24, 18], [13, 18], [11, 20], [32, 23], [25, 8], [30, 12], [21, 4], [25, 10], [16, 19], [26, 10], [26, 5], [29, 20], [20, 12], [30, 18], [16, 17], [21, 10], [18, 11], [23, 17], [14, 6], [25, 19], [30, 13], [20, 4], [13, 22], [26, 9], [31, 10], [11, 23], [18, 15], [24, 19], [24, 11], [23, 18], [22, 12], [32, 20], [12, 8], [28, 18], [11, 22], [28, 21], [12, 21], [25, 16], [25, 15], [16, 16], [29, 19], [21, 14], [19, 5], [25, 6], [16, 15], [15, 19], [24, 19], [20, 14], [29, 14], [28, 20], [21, 13], [11, 24], [24, 4], [15, 11], [14, 22], [18, 19], [14, 18], [13, 12], [24, 15], [31, 22], [21, 18], [15, 15], [17, 17], [17, 19], [27, 6], [22, 19], [21, 12], [22, 15], [24, 14], [17, 8], [30, 19], [13, 13], [20, 18], [28, 14], [27, 17], [29, 22], [26, 18], [12, 18], [23, 9], [17, 5], [20, 5], [12, 20], [30, 17], [31, 23], [29, 12], [30, 10], [20, 10], [15, 17], [23, 12], [14, 12], [24, 16], [17, 15], [16, 10], [19, 18], [31, 20], [23, 5], [29, 16], [21, 17], [12, 22], [32, 21], [31, 8], [15, 16], [30, 21], [27, 19], [19, 6], [18, 6], [22, 20], [25, 18], [18, 8], [26, 15], [19, 12], [30, 7], [16, 7], [32, 19], [14, 19], [19, 13], [25, 14], [23, 16], [24, 7], [26, 8], [22, 10], [27, 7], [26, 6], [16, 20], [29, 13], [20, 16], [20, 17], [20, 15], [20, 9], [18, 9], [14, 16], [29, 21], [17, 18], [13, 10], [31, 19], [27, 20], [25, 17], [13, 11], [21, 20], [14, 14], [23, 11]]"
   ]
  },
  {
   "cell_type": "code",
   "execution_count": 11,
   "id": "55fc3a8e",
   "metadata": {},
   "outputs": [
    {
     "data": {
      "image/png": "[encoded data removed]",
      "text/plain": [
       "<Figure size 648x432 with 1 Axes>"
      ]
     },
     "metadata": {
      "needs_background": "light"
     },
     "output_type": "display_data"
    }
   ],
   "source": [
    "fix, ax = subplots(figsize=(9, 6))\n",
    "\n",
    "xlim(0, 43)\n",
    "ylim(0, 28)\n",
    "\n",
    "for rect in BLACK:\n",
    "    carre = Rectangle((rect[0], rect[1]), 1, 1, facecolor = 'black')\n",
    "    ax.add_patch(carre)\n",
    "    \n",
    "for rect in RED:\n",
    "    carre = Rectangle((rect[0], rect[1]), 1, 1, facecolor = 'red')\n",
    "    ax.add_patch(carre)\n",
    "\n",
    "for rect in YELLOW:\n",
    "    carre = Rectangle((rect[0], rect[1]), 1, 1, facecolor = 'yellow')\n",
    "    ax.add_patch(carre)    \n",
    "    \n",
    "\n"
   ]
  },
  {
   "cell_type": "markdown",
   "id": "ba9b96cf",
   "metadata": {},
   "source": [
    "<div style=\"border:3px solid black; padding:3%; font-size:314% ; text-align:center; color:white; background-color:black;\">\n",
    "    Les nombres complexes\n",
    "</div>"
   ]
  },
  {
   "cell_type": "markdown",
   "id": "3332c6d6",
   "metadata": {},
   "source": [
    "<h1>Première partie : représentation cartésienne.</h1>"
   ]
  },
  {
   "cell_type": "markdown",
   "id": "e9c67681",
   "metadata": {},
   "source": [
    "<p>On note $i$ une solution de l'équation $x^2+1=0$. C'est un nombre <em>imaginaire pure</em>. De manière générale un <b> nombre complexe est la donnée de $z=x+iy$</b> où $x$ est appelé la partie réelle et $y$ la partie imaginaire. Informatiquement, un nombre complexe est la donnée d'une liste à deux entrées. La première coordonnée est la partie réel et la seconde la partie imaginaire.</p>\n",
    "\n",
    "<p>Voici des exemples</p>"
   ]
  },
  {
   "cell_type": "code",
   "execution_count": 12,
   "id": "e8b56196",
   "metadata": {},
   "outputs": [],
   "source": [
    "Z1=[sqrt(3)/2, -1/2] #Représente le nombre complexe z1=sqrt(3)/2+i(-1/2)\n",
    "Z2=[1/2, sqrt(3)/2] #Représente le nombre complexe z2=1/2+isqrt(3)/2\n",
    "Z3=[0, 1] #Représente le nombre complexe i"
   ]
  },
  {
   "cell_type": "markdown",
   "id": "3fef8b7d",
   "metadata": {},
   "source": [
    "<p>Écrire la fonction <code>partieReelle_car(z)</code> qui prend en paramètre un nombre complexe (une liste à deux entrées) et renvoie la partie réelles (un nombre réel).</p>"
   ]
  },
  {
   "cell_type": "code",
   "execution_count": 13,
   "id": "d93c31e5",
   "metadata": {},
   "outputs": [],
   "source": [
    "def partieReelle_car(z) : \n",
    "    return z[0]"
   ]
  },
  {
   "cell_type": "code",
   "execution_count": 14,
   "id": "be4465cf",
   "metadata": {},
   "outputs": [
    {
     "name": "stdout",
     "output_type": "stream",
     "text": [
      "0.8660254037844386\n",
      "0.5\n",
      "0\n"
     ]
    }
   ],
   "source": [
    "#Tests\n",
    "print(partieReelle_car(Z1))#0.8660254037844386\n",
    "print(partieReelle_car(Z2))#0.5\n",
    "print(partieReelle_car(Z3))#0"
   ]
  },
  {
   "cell_type": "markdown",
   "id": "6323528a",
   "metadata": {},
   "source": [
    "<p>De même, écrire la fonction <code>partieImaginaire_car(z)</code> qui renvoie la partie imaginaire</p>"
   ]
  },
  {
   "cell_type": "code",
   "execution_count": 15,
   "id": "60697f5b",
   "metadata": {},
   "outputs": [],
   "source": [
    "def partieImaginaire_car(z) : \n",
    "    return z[1]"
   ]
  },
  {
   "cell_type": "code",
   "execution_count": 16,
   "id": "72bf9aa5",
   "metadata": {},
   "outputs": [
    {
     "name": "stdout",
     "output_type": "stream",
     "text": [
      "-0.5\n",
      "0.8660254037844386\n",
      "1\n"
     ]
    }
   ],
   "source": [
    "#Tests\n",
    "print(partieImaginaire_car(Z1))#-0.5\n",
    "print(partieImaginaire_car(Z2))#0.8660254037844386\n",
    "print(partieImaginaire_car(Z3))#1"
   ]
  },
  {
   "cell_type": "markdown",
   "id": "bb8a58d9",
   "metadata": {},
   "source": [
    "<p>La procédure suivante, prend en paramètre un nombre complexe et affiche ce nombre. Le paramètre optionnel <code>precision</code> permet de spécifier le nombre de chiffre après la virgule qui doivent apparaitre.</p>"
   ]
  },
  {
   "cell_type": "code",
   "execution_count": 52,
   "id": "845c3b64",
   "metadata": {},
   "outputs": [],
   "source": [
    "def printZ_car(z, precision=2) : \n",
    "    x=round(partieReelle_car(z), precision)\n",
    "    y=round(partieImaginaire_car(z), precision)\n",
    "    \n",
    "    txt=\"\"\n",
    "    if(x==0 and y==0) : txt=0\n",
    "    \n",
    "    if(x!=0) : txt+=str(x)\n",
    "    if(y>0 and x!=0) : txt+='+'\n",
    "    if(abs(y)!=1 and y!=0) : txt+=str(y)\n",
    "    if(y==-1) : txt+='-'\n",
    "    if(y!=0) : txt+='i'\n",
    "        \n",
    "    print(txt)"
   ]
  },
  {
   "cell_type": "code",
   "execution_count": 53,
   "id": "c7d98bb1",
   "metadata": {},
   "outputs": [
    {
     "name": "stdout",
     "output_type": "stream",
     "text": [
      "0.87-0.5i\n",
      "0.5+0.87i\n",
      "i\n"
     ]
    }
   ],
   "source": [
    "#Tests\n",
    "printZ_car(Z1)#0.87-0.5i\n",
    "printZ_car(Z2)#0.5+0.87i\n",
    "printZ_car(Z3)#i"
   ]
  },
  {
   "cell_type": "markdown",
   "id": "73474593",
   "metadata": {},
   "source": [
    "<h3>Somme algébrique de nombre complexe</h3>\n",
    "\n",
    "<p>Si $z_1=x_1+iy_1$ et $z_2=x_2+iy_2$ sont deux nombres complexes alors on définit l'addition $$z_1+z_2=(x_1+x_2)+i(y_1+y2)$$ En définitive, on additionne les nombres complexes comme des nombres réels usuelles en considérant le nombre complexe $i$ comme une variable.</p>\n",
    "\n",
    "<p>Écrire la fonction <code>addZ_car(z1, z2)</code> qui renvoie le nombre complexe <code>z1+z2</code></p>"
   ]
  },
  {
   "cell_type": "code",
   "execution_count": 54,
   "id": "c113067e",
   "metadata": {},
   "outputs": [],
   "source": [
    "def addZ_car(z1, z2) : \n",
    "    return [z1[0] + z2[0], z1[1] + z2[1]]"
   ]
  },
  {
   "cell_type": "code",
   "execution_count": 55,
   "id": "0952b249",
   "metadata": {},
   "outputs": [
    {
     "name": "stdout",
     "output_type": "stream",
     "text": [
      "1.37+0.37i\n",
      "0.87+0.5i\n",
      "0.5+1.87i\n"
     ]
    }
   ],
   "source": [
    "#Tests\n",
    "printZ_car(addZ_car(Z1, Z2))#1.37+0.37i\n",
    "printZ_car(addZ_car(Z1, Z3))#0.87+05i\n",
    "printZ_car(addZ_car(Z2, Z3))#0.5+1.87i"
   ]
  },
  {
   "cell_type": "markdown",
   "id": "290174ea",
   "metadata": {},
   "source": [
    "<p>Écrire la fonction <code>oppZ_car(z)</code> qui renvoie l'opposé du nombre complexe <code>z</code>.</p>"
   ]
  },
  {
   "cell_type": "code",
   "execution_count": 56,
   "id": "ddfca1cf",
   "metadata": {},
   "outputs": [],
   "source": [
    "def oppZ_car(z) : \n",
    "    return [-z[0], -z[1]]"
   ]
  },
  {
   "cell_type": "code",
   "execution_count": 57,
   "id": "633cb6f2",
   "metadata": {},
   "outputs": [
    {
     "name": "stdout",
     "output_type": "stream",
     "text": [
      "-0.87+0.5i\n",
      "-0.5-0.87i\n",
      "-i\n"
     ]
    }
   ],
   "source": [
    "#Tests\n",
    "printZ_car(oppZ_car(Z1))#-0.87+0.5i\n",
    "printZ_car(oppZ_car(Z2))#-0.5-0.87i\n",
    "printZ_car(oppZ_car(Z3))#-i"
   ]
  },
  {
   "cell_type": "markdown",
   "id": "b6a4110c",
   "metadata": {},
   "source": [
    "<p>En déduire la fonction <code>sousZ_car(z1, z2)</code> qui renvoie le nombre complexe <code>z1-z2</code>.</p>"
   ]
  },
  {
   "cell_type": "code",
   "execution_count": 58,
   "id": "7d923a80",
   "metadata": {},
   "outputs": [],
   "source": [
    "def sousZ_car(z1, z2) : \n",
    "    return [z1[0] - z2[0], z1[1] - z2[1]]"
   ]
  },
  {
   "cell_type": "code",
   "execution_count": 59,
   "id": "67cd3d99",
   "metadata": {},
   "outputs": [
    {
     "name": "stdout",
     "output_type": "stream",
     "text": [
      "0.37-1.37i\n",
      "0.87-1.5i\n",
      "0.5-0.13i\n"
     ]
    }
   ],
   "source": [
    "#tests\n",
    "printZ_car(sousZ_car(Z1, Z2))#0.37-1.37i\n",
    "printZ_car(sousZ_car(Z1, Z3))#0.87-1.5i\n",
    "printZ_car(sousZ_car(Z2, Z3))#0.5-0.13i"
   ]
  },
  {
   "cell_type": "markdown",
   "id": "26da4bc7",
   "metadata": {},
   "source": [
    "<h3>Multiplication de nombre complexe</h3>\n",
    "\n",
    "<p>Pour réaliser le produit de nombre complexe, on réalise le développement classique des nombres réels en prennant en compte que $i^2=-1$.</p>\n",
    "\n",
    "<p>Écrire la fonction <code>multZ_car(z1, z2)</code> qui renvoie le produit <code>z1.z2</code></p>"
   ]
  },
  {
   "cell_type": "code",
   "execution_count": 60,
   "id": "f46c808b",
   "metadata": {},
   "outputs": [],
   "source": [
    "def multZ_car(z1, z2) : \n",
    "    return [z1[0] * z2[0] - z1[1] * z2[1], z1[0] * z2[1] + z1[1] * z2[0]]"
   ]
  },
  {
   "cell_type": "code",
   "execution_count": 61,
   "id": "7b955f1f",
   "metadata": {},
   "outputs": [
    {
     "name": "stdout",
     "output_type": "stream",
     "text": [
      "0.87+0.5i\n",
      "0.5+0.87i\n",
      "-0.87+0.5i\n"
     ]
    }
   ],
   "source": [
    "#Tests\n",
    "printZ_car(multZ_car(Z1, Z2))#0.87+0.5i\n",
    "printZ_car(multZ_car(Z1, Z3))#0.5+0.87i\n",
    "printZ_car(multZ_car(Z2, Z3))#-0.87+0.5i"
   ]
  },
  {
   "cell_type": "markdown",
   "id": "459090de",
   "metadata": {},
   "source": [
    "<h3>Inverse d'un nombre complexe</h3>\n",
    "\n",
    "<p>Pour inverser un nombre complexe, on utilise la formule de l'expression conjugué. Précisément :\n",
    "$$\\dfrac{1}{x+iy}=\\dfrac{x}{x^2+y^2}-i\\dfrac{y}{x^2+y^2}$$\n",
    "</p>\n",
    "\n",
    "<p>Écrire la fonction <code>invZ_car(z)</code> qui renvoie l'inverse du nombre complexe <code>z</code>.</p>"
   ]
  },
  {
   "cell_type": "code",
   "execution_count": 62,
   "id": "2965655a",
   "metadata": {},
   "outputs": [],
   "source": [
    "def invZ_car(z) : \n",
    "    return [z[0]/(z[0]**2+z[1]**2), -z[1]/(z[0]**2+z[1]**2)]"
   ]
  },
  {
   "cell_type": "code",
   "execution_count": 63,
   "id": "c33f8064",
   "metadata": {},
   "outputs": [
    {
     "name": "stdout",
     "output_type": "stream",
     "text": [
      "0.87+0.5i\n",
      "0.5-0.87i\n",
      "-i\n"
     ]
    }
   ],
   "source": [
    "#Tests\n",
    "printZ_car(invZ_car(Z1))#0.87+0.5i\n",
    "printZ_car(invZ_car(Z2))#0.5-0.87i\n",
    "printZ_car(invZ_car(Z3))#-i"
   ]
  },
  {
   "cell_type": "markdown",
   "id": "c77573f1",
   "metadata": {},
   "source": [
    "<p>En déduire le code pour renvoyer le quotient de deux nombres complexe $\\dfrac{z_1}{z_2}$.</p>"
   ]
  },
  {
   "cell_type": "code",
   "execution_count": 104,
   "id": "5f69ef07",
   "metadata": {},
   "outputs": [],
   "source": [
    "def divZ_car(z1, z2) :\n",
    "    return multZ_car(z1, invZ_car(z2))"
   ]
  },
  {
   "cell_type": "code",
   "execution_count": 105,
   "id": "3d67cdea",
   "metadata": {},
   "outputs": [
    {
     "name": "stdout",
     "output_type": "stream",
     "text": [
      "-i\n",
      "-0.5-0.87i\n",
      "0.87-0.5i\n"
     ]
    }
   ],
   "source": [
    "#Tests\n",
    "printZ_car(divZ_car(Z1, Z2))#-i\n",
    "printZ_car(divZ_car(Z1, Z3))#-0.5-0.87i\n",
    "printZ_car(divZ_car(Z2, Z3))#0.87-0.5i"
   ]
  },
  {
   "cell_type": "markdown",
   "id": "2a4c232a",
   "metadata": {},
   "source": [
    "<h1>Seconde partie : représentation polaire</h1>\n",
    "\n",
    "<p>Une autre manière de représenter un nombre complexe est par son expression polaire. <br>L'écriture de $z=x+iy$, s'écrit également sous la forme $r\\left(cos(\\vartheta)+isin(\\vartheta)\\right)$ également noté $re^{i\\vartheta}$. \n",
    "    <ul>\n",
    "    <li>Le nombre $r$ est appellé le <b>module</b>. C'est la distance entre le nombre $z$ et l'origine</li>\n",
    "    <li>Le nombre $\\vartheta$ est appellé l'<b>argument</b>. C'est l'angle entre l'axe des abscisse le vecrteur $\\overrightarrow{OA}$ où $A$ représente le point du plan de coordonnée $(x, y)$.</li>\n",
    "    </ul>\n",
    "    <img src=\"https://www.ataraxy.info/COEUR/Modules/SAE202/Affixe.png\" alt=\"Réprésentation du module et de l'argument\">\n",
    "</p>\n",
    "<p>Dans la suite, la représentation polaire d'un nombre complexe est la donnée d'un tableau à deux entrées ou la première représente le module et le second l'argument.</p>\n",
    "\n",
    "<p>Voici des exemples</p>"
   ]
  },
  {
   "cell_type": "code",
   "execution_count": 69,
   "id": "9b0c0a27",
   "metadata": {},
   "outputs": [],
   "source": [
    "T1=[1, -1983*pi/6]\n",
    "T2=[2, pi/3]\n",
    "T3=[3, pi]"
   ]
  },
  {
   "cell_type": "markdown",
   "id": "101447cb",
   "metadata": {},
   "source": [
    "<p>Écrire la fonction <code>module_pol(z)</code> qui prend en paramètre un nombre complexe sous sa forme polaire et renvoie son module.</p>"
   ]
  },
  {
   "cell_type": "code",
   "execution_count": 215,
   "id": "bcf7e750",
   "metadata": {},
   "outputs": [],
   "source": [
    "def module_pol(z) : \n",
    "    return z[0]"
   ]
  },
  {
   "cell_type": "code",
   "execution_count": 216,
   "id": "e0f94c4f",
   "metadata": {},
   "outputs": [
    {
     "name": "stdout",
     "output_type": "stream",
     "text": [
      "1\n",
      "2\n",
      "3\n"
     ]
    }
   ],
   "source": [
    "#Tests\n",
    "print(module_pol(T1))#1\n",
    "print(module_pol(T2))#2\n",
    "print(module_pol(T3))#3"
   ]
  },
  {
   "cell_type": "markdown",
   "id": "474955b9",
   "metadata": {},
   "source": [
    "<p>De la même manière, écrire la fonction <code>argument_pol(z)</code>. On prendra soin de renvoyer un argument $\\vartheta\\in ]-\\pi ; \\pi]$.</p>"
   ]
  },
  {
   "cell_type": "code",
   "execution_count": 116,
   "id": "f2631e0f",
   "metadata": {},
   "outputs": [],
   "source": [
    "def argument_pol(z):\n",
    "    argument = z[1]\n",
    "    while argument <= -pi:\n",
    "        argument += 2*pi\n",
    "    while argument > pi:\n",
    "        argument -= 2*pi\n",
    "\n",
    "    return argument"
   ]
  },
  {
   "cell_type": "code",
   "execution_count": 117,
   "id": "d38f3422",
   "metadata": {},
   "outputs": [
    {
     "name": "stdout",
     "output_type": "stream",
     "text": [
      "-1.5707963267973781\n",
      "1.0471975511965976\n",
      "3.141592653589793\n"
     ]
    }
   ],
   "source": [
    "#Tests\n",
    "print(argument_pol(T1))#-1.57\n",
    "print(argument_pol(T2))#1.04\n",
    "print(argument_pol(T3))#3.14"
   ]
  },
  {
   "cell_type": "markdown",
   "id": "a10fa075",
   "metadata": {},
   "source": [
    "<p>La fonction suivante affiche l'expression polaire d'un nombre complexe.</p>"
   ]
  },
  {
   "cell_type": "code",
   "execution_count": 118,
   "id": "3c177142",
   "metadata": {},
   "outputs": [],
   "source": [
    "def printZ_pol(z, precision=2) : \n",
    "    r=round(module_pol(z), precision)\n",
    "    t=argument_pol(z)/pi\n",
    "    \n",
    "    s=\"\"\n",
    "    if(t<0) : s=\"-\"\n",
    "    \n",
    "    t=abs(t)\n",
    "        \n",
    "    tt=str(round(t, precision))+\"π\"\n",
    "    if(abs(t-1/2)<10**(-precision**2)) : tt=\"π/2\"\n",
    "    if(abs(t-1/3)<10**(-precision**2)) : tt=\"π/3\"\n",
    "    if(abs(t-2/3)<10**(-precision**2)) : tt=\"2π/3\"\n",
    "    if(abs(t-1/4)<10**(-precision**2)) : tt=\"π/4\"\n",
    "    if(abs(t-3/4)<10**(-precision**2)) : tt=\"3π/4\"\n",
    "    if(abs(t-1/6)<10**(-precision**2)) : tt=\"π/6\"\n",
    "    if(abs(t-5/6)<10**(-precision**2)) : tt=\"5π/6\"\n",
    "    if(abs(t-1)<10**(-precision**2)) : tt=\"π\"\n",
    "    if(abs(t)<10**(-precision**2)) : tt=\"0π\"\n",
    "    \n",
    "    if(r==0) : return 0\n",
    "    \n",
    "    txt=\"\"\n",
    "    if(r!=1) : txt+=str(r)\n",
    "    if(t!=0) : txt+=\"e^{\"+s+\"i \"+tt+\"}\"\n",
    "    \n",
    "    print(txt)"
   ]
  },
  {
   "cell_type": "code",
   "execution_count": 119,
   "id": "6cced2f6",
   "metadata": {},
   "outputs": [
    {
     "name": "stdout",
     "output_type": "stream",
     "text": [
      "e^{-i π/2}\n",
      "2e^{i π/3}\n",
      "3e^{i π}\n"
     ]
    }
   ],
   "source": [
    "#Tests\n",
    "printZ_pol(T1)#e^{-i π/2}\n",
    "printZ_pol(T2)#2e^{i π/3}\n",
    "printZ_pol(T3)#3e^{i π}"
   ]
  },
  {
   "cell_type": "markdown",
   "id": "6f79ca63",
   "metadata": {},
   "source": [
    "<h3>Conversion des coordonnées cartésienne aux coordonnées polaire.</h3>"
   ]
  },
  {
   "cell_type": "markdown",
   "id": "e73ebbec",
   "metadata": {},
   "source": [
    "<p>Si $z=x+iy$ est l'expression cartésienne d'un nombre complexe alors $r$ son module vaut $\\sqrt{x^2+y^2}$.</p>\n",
    "<p>Écrire la fonction <code>module_car(z)</code> qui renvoie le module de l'expression cartésienne du nombre complexe <code>z</code></p>"
   ]
  },
  {
   "cell_type": "code",
   "execution_count": 138,
   "id": "b1ca0774",
   "metadata": {},
   "outputs": [],
   "source": [
    "def module_car(z) : \n",
    "    return sqrt(z[0]**2+z[1]**2)"
   ]
  },
  {
   "cell_type": "code",
   "execution_count": 139,
   "id": "e73b73a7",
   "metadata": {},
   "outputs": [
    {
     "name": "stdout",
     "output_type": "stream",
     "text": [
      "0.9999999999999999\n",
      "0.9999999999999999\n",
      "1.0\n"
     ]
    }
   ],
   "source": [
    "#Tests\n",
    "print(module_car(Z1))#1\n",
    "print(module_car(Z2))#1\n",
    "print(module_car(Z3))#1"
   ]
  },
  {
   "cell_type": "markdown",
   "id": "cb9aaed7",
   "metadata": {},
   "source": [
    "<p>Si $z=x+iy$ est un nombre complexe non imaginaire pure, alors $\\vartheta$ son argument vérifie $tan(\\vartheta)=\\dfrac{y}{x}$.</p>\n",
    "<p>Écrire la fonction <code>argument_car(z)</code> qui renvoie un argument de l'expression cartésienne du nombre complexe <code>z</code>. On prendra gare aux exceptions.</p>"
   ]
  },
  {
   "cell_type": "code",
   "execution_count": 140,
   "id": "f2b80c87",
   "metadata": {},
   "outputs": [],
   "source": [
    "def argument_car(z) : \n",
    "    return atan2(z[1],z[0])"
   ]
  },
  {
   "cell_type": "code",
   "execution_count": 141,
   "id": "7c24bb1c",
   "metadata": {},
   "outputs": [
    {
     "name": "stdout",
     "output_type": "stream",
     "text": [
      "-0.5235987755982989\n",
      "1.0471975511965976\n",
      "1.5707963267948966\n"
     ]
    }
   ],
   "source": [
    "#Tests\n",
    "print(argument_car(Z1))#-0.52\n",
    "print(argument_car(Z2))#1.04\n",
    "print(argument_car(Z3))#1.57"
   ]
  },
  {
   "cell_type": "markdown",
   "id": "5bb73fad",
   "metadata": {},
   "source": [
    "<p>Écrire la fonction <code>conversion_car_pol(z)</code> qui renvoie l'expression polaire de l'expression cartésienne du nombre complexe <code>z</code>.</p>"
   ]
  },
  {
   "cell_type": "code",
   "execution_count": 142,
   "id": "36fd463b",
   "metadata": {},
   "outputs": [],
   "source": [
    "def conversion_car_pol(z) : \n",
    "    return [module_car(z), argument_car(z)]"
   ]
  },
  {
   "cell_type": "code",
   "execution_count": 143,
   "id": "25f0a2f7",
   "metadata": {},
   "outputs": [
    {
     "name": "stdout",
     "output_type": "stream",
     "text": [
      "0.87-0.5i\n",
      "=e^{-i π/6}\n",
      "0.5+0.87i\n",
      "=e^{i π/3}\n",
      "i\n",
      "=e^{i π/2}\n"
     ]
    }
   ],
   "source": [
    "#Tests\n",
    "for Z in [Z1, Z2, Z3] : \n",
    "    printZ_car(Z)\n",
    "    print(\"=\", end='')\n",
    "    printZ_pol(conversion_car_pol(Z))\n",
    "#Résultats : \n",
    "#0.87-0.5i=e^{-i π/6}\n",
    "#0.5+0.87i=e^{i π/3}\n",
    "#i=e^{i π/2}"
   ]
  },
  {
   "cell_type": "markdown",
   "id": "be98878c",
   "metadata": {},
   "source": [
    "<p>Écrire la fonction de conversion inverse.</p>"
   ]
  },
  {
   "cell_type": "code",
   "execution_count": 146,
   "id": "cc9c9822",
   "metadata": {},
   "outputs": [],
   "source": [
    "def conversion_pol_car(z) :   \n",
    "    return [z[0] * cos(z[1]), z[0] * sin(z[1])] "
   ]
  },
  {
   "cell_type": "code",
   "execution_count": 147,
   "id": "b5f7f8cd",
   "metadata": {},
   "outputs": [
    {
     "name": "stdout",
     "output_type": "stream",
     "text": [
      "e^{-i π/2}\n",
      "=-i\n",
      "2e^{i π/3}\n",
      "=1.0+1.73i\n",
      "3e^{i π}\n",
      "=-3.0\n"
     ]
    }
   ],
   "source": [
    "#Tests\n",
    "for T in [T1, T2, T3] : \n",
    "    printZ_pol(T)\n",
    "    print(\"=\", end='')\n",
    "    printZ_car(conversion_pol_car(T))\n",
    "#Résultats : \n",
    "#e^{-i π/2}=-i\n",
    "#2e^{i π/3}=1.0+1.73i\n",
    "#3e^{i π}=-3.0"
   ]
  },
  {
   "cell_type": "markdown",
   "id": "85cbe233",
   "metadata": {},
   "source": [
    "<h3>Opérations algébriques sur la forme polaire des nombres complexes</h3>"
   ]
  },
  {
   "cell_type": "markdown",
   "id": "3803a3d8",
   "metadata": {},
   "source": [
    "<p>En utilisant (éventuellement) les fonctions de conversion et les fonctions réalisant les opérations algébriques sur les représentations cartésiennes des nombres complexes, donnez le code des fonctions suvantes :\n",
    "    <ul>\n",
    "        <li><code>addZ_pol(t1, t2)</code> qui renvoie l'expression polaire de la somme de deux nombres complexes eux aussi donnés sous forme polaire.</li>\n",
    "        <li><code>oppZ_pol(t)</code> qui renvoie l'expression polaire de l'opposé d'un nombre complexe lui aussi donné sous forme polaire.</li>\n",
    "        <li><code>sousZ_pol(t1, t2)</code> qui renvoie l'expression polaire de la différence de deux nombres complexes eux aussi donnés sous forme polaire.</li>\n",
    "        <li><code>multZ_car(t1, t2)</code> qui renvoie l'expression polaire du produit de deux nombres complexes eux aussi donnés sous forme polaire.</li>\n",
    "        <li><code>invZ_pol(t)</code> qui renvoie l'expression polaire de l'inverse d'un nombre complexe lui aussi donné sous forme polaire.</li>  \n",
    "        <li><code>divZ_car(t1, t2)</code> qui renvoie l'expression polaire du produit de deux nombres complexes eux aussi donnés sous forme polaire.</li>\n",
    "    </ul>\n",
    "</p>"
   ]
  },
  {
   "cell_type": "code",
   "execution_count": 156,
   "id": "d22a191e",
   "metadata": {},
   "outputs": [],
   "source": [
    "def addZ_pol(t1, t2) : \n",
    "    return conversion_car_pol(addZ_car(conversion_pol_car(t1), conversion_pol_car(t2)))"
   ]
  },
  {
   "cell_type": "code",
   "execution_count": 157,
   "id": "2c3f803b",
   "metadata": {},
   "outputs": [
    {
     "name": "stdout",
     "output_type": "stream",
     "text": [
      "1.24e^{i 0.2π}\n",
      "3.16e^{-i 0.9π}\n",
      "2.65e^{i 0.77π}\n"
     ]
    }
   ],
   "source": [
    "#Tests\n",
    "printZ_pol(addZ_pol(T1, T2))#1.24e^{i 0.2π}\n",
    "printZ_pol(addZ_pol(T1, T3))#3.16e^{-i 0.9π}\n",
    "printZ_pol(addZ_pol(T2, T3))#2.65e^{i 0.77π}"
   ]
  },
  {
   "cell_type": "code",
   "execution_count": 160,
   "id": "4642c711",
   "metadata": {},
   "outputs": [],
   "source": [
    "def oppZ_pol(t) : \n",
    "    return conversion_car_pol(oppZ_car(conversion_pol_car(t)))"
   ]
  },
  {
   "cell_type": "code",
   "execution_count": 161,
   "id": "ddf8b5e8",
   "metadata": {},
   "outputs": [
    {
     "name": "stdout",
     "output_type": "stream",
     "text": [
      "e^{i π/2}\n",
      "2.0e^{-i 2π/3}\n",
      "3.0e^{-i 0π}\n"
     ]
    }
   ],
   "source": [
    "#Tests\n",
    "printZ_pol(oppZ_pol(T1))#e^{i π/2}\n",
    "printZ_pol(oppZ_pol(T2))#2.0e^{-i 2π/3}\n",
    "printZ_pol(oppZ_pol(T3))#3.0"
   ]
  },
  {
   "cell_type": "code",
   "execution_count": 162,
   "id": "db54ad3f",
   "metadata": {},
   "outputs": [],
   "source": [
    "def sousZ_pol(t1, t2) : \n",
    "    return conversion_car_pol(sousZ_car(conversion_pol_car(t1), conversion_pol_car(t2)))"
   ]
  },
  {
   "cell_type": "code",
   "execution_count": 163,
   "id": "d095d274",
   "metadata": {},
   "outputs": [
    {
     "name": "stdout",
     "output_type": "stream",
     "text": [
      "2.91e^{-i 0.61π}\n",
      "3.16e^{-i 0.1π}\n",
      "4.36e^{i 0.13π}\n"
     ]
    }
   ],
   "source": [
    "#Tests\n",
    "printZ_pol(sousZ_pol(T1, T2))#2.91e^{-i 0.61π}\n",
    "printZ_pol(sousZ_pol(T1, T3))#3.16e^{-i 0.1π}\n",
    "printZ_pol(sousZ_pol(T2, T3))#4.36e^{i 0.13π}"
   ]
  },
  {
   "cell_type": "code",
   "execution_count": 164,
   "id": "990c62d5",
   "metadata": {},
   "outputs": [],
   "source": [
    "def multZ_pol(t1, t2) : \n",
    "    return conversion_car_pol(multZ_car(conversion_pol_car(t1), conversion_pol_car(t2)))"
   ]
  },
  {
   "cell_type": "code",
   "execution_count": 165,
   "id": "2484641d",
   "metadata": {},
   "outputs": [
    {
     "name": "stdout",
     "output_type": "stream",
     "text": [
      "2.0e^{-i π/6}\n",
      "3.0e^{i π/2}\n",
      "6.0e^{-i 2π/3}\n"
     ]
    }
   ],
   "source": [
    "#Tests\n",
    "printZ_pol(multZ_pol(T1, T2))#2e^{-i π/6}\n",
    "printZ_pol(multZ_pol(T1, T3))#3e^{i π/2}\n",
    "printZ_pol(multZ_pol(T2, T3))#6e^{-i 2π/3}"
   ]
  },
  {
   "cell_type": "code",
   "execution_count": 168,
   "id": "9129a742",
   "metadata": {},
   "outputs": [],
   "source": [
    "def invZ_pol(t) : \n",
    "    return conversion_car_pol(invZ_car(conversion_pol_car(t)))"
   ]
  },
  {
   "cell_type": "code",
   "execution_count": 169,
   "id": "5acde46a",
   "metadata": {},
   "outputs": [
    {
     "name": "stdout",
     "output_type": "stream",
     "text": [
      "e^{i π/2}\n",
      "0.5e^{-i π/3}\n",
      "0.33e^{i π}\n"
     ]
    }
   ],
   "source": [
    "#Tests\n",
    "printZ_pol(invZ_pol(T1))#e^{i π/2}\n",
    "printZ_pol(invZ_pol(T2))#0.5e^{-i π/3}\n",
    "printZ_pol(invZ_pol(T3))#0.33e^{i π}"
   ]
  },
  {
   "cell_type": "code",
   "execution_count": 170,
   "id": "dee054da",
   "metadata": {},
   "outputs": [],
   "source": [
    "def divZ_pol(t1, t2) : \n",
    "    return conversion_car_pol(divZ_car(conversion_pol_car(t1), conversion_pol_car(t2)))"
   ]
  },
  {
   "cell_type": "code",
   "execution_count": 171,
   "id": "6fe30762",
   "metadata": {},
   "outputs": [
    {
     "name": "stdout",
     "output_type": "stream",
     "text": [
      "0.5e^{-i 5π/6}\n",
      "0.33e^{i π/2}\n",
      "0.67e^{-i 2π/3}\n"
     ]
    }
   ],
   "source": [
    "#Tests\n",
    "printZ_pol(divZ_pol(T1, T2))#0.5e^{-i 5π/6}\n",
    "printZ_pol(divZ_pol(T1, T3))#0.33e^{i π/2}\n",
    "printZ_pol(divZ_pol(T2, T3))#0.67e^{-i 2π/3}"
   ]
  },
  {
   "cell_type": "markdown",
   "id": "0303c3c0",
   "metadata": {},
   "source": [
    "<div style=\"border:3px solid black; padding:3%; font-size:314% ; text-align:center; color:white; background-color:black;\">\n",
    "    L'ensemble de Mandelbrot\n",
    "</div>"
   ]
  },
  {
   "cell_type": "markdown",
   "id": "471db812",
   "metadata": {},
   "source": [
    "<p>Écrire la focntion de Mandelbrot $f(z, c)=z^2+c$ où $z$ et $c$ sont des nombres complexes données sous forme cartésienne.</p>"
   ]
  },
  {
   "cell_type": "code",
   "execution_count": 174,
   "id": "d2eb0af2",
   "metadata": {},
   "outputs": [
    {
     "name": "stdout",
     "output_type": "stream",
     "text": [
      "[1, 3]\n"
     ]
    }
   ],
   "source": [
    "def f(z, c) : \n",
    "    return addZ_car(multZ_car(z,z),c)\n",
    "\n",
    "print(f([1,1],[1,1]))"
   ]
  },
  {
   "cell_type": "markdown",
   "id": "f6c0c891",
   "metadata": {},
   "source": [
    "<p>L'ensemble de Mandelbrot est l'ensemble des nombres complexes $c$ tel que la suite \n",
    "$$\n",
    "\\left\\{\n",
    "    \\begin{array}{rcl}\n",
    "        z_0&=&0\\\\\n",
    "        z_{n+1}&=&f(z_n, c)\n",
    "    \\end{array}\n",
    "\\right.\n",
    "$$ soit convergente. \n",
    "</p>"
   ]
  },
  {
   "cell_type": "markdown",
   "id": "d1d0db99",
   "metadata": {},
   "source": [
    "<p>Calculer les dix premiers termes de la suite $z_n$ pour $c=1+i$. <br>Qu'observez-vous sur le module ? <br>Le nombre $c=1+i$ est-il dans l'ensemble de Mandelbrot ? <br>Même questions avec le nombre $c=\\dfrac{1}{4}e^{i\\frac{\\pi}{3}}$</p>"
   ]
  },
  {
   "cell_type": "code",
   "execution_count": 185,
   "id": "9993bb19",
   "metadata": {},
   "outputs": [
    {
     "name": "stdout",
     "output_type": "stream",
     "text": [
      "[0, 0]\n",
      "[1, 1]\n",
      "[1, 3]\n",
      "[-7, 7]\n",
      "[1, -97]\n",
      "[-9407, -193]\n",
      "[88454401, 3631103]\n",
      "[7810996147272193, 642374081668607]\n",
      "[60599016351901456381757461708801, 10035162954042004672537704290303]\n",
      "[3571536287303843041653987757106961599914291932363619478021025793, 1216242007891974328757655938970860849258259503404555078708113407]\n",
      "Le nombre c, [1, 1] appartient à l'ensemble.\n",
      "Le module augmente.\n",
      "----------------------------------------------------------------------------------------------\n",
      "[0, 0]\n",
      "[0.12500000000000003, 0.21650635094610965]\n",
      "[0.09375000000000004, 0.27063293868263705]\n",
      "[0.060546875000000056, 0.2672500269491041]\n",
      "[0.05724334716796878, 0.24886865889697776]\n",
      "[0.06634119141381235, 0.24499850102704265]\n",
      "[0.06937688817270629, 0.24901333585157392]\n",
      "[0.06780551118059946, 0.25105789165588405]\n",
      "[0.06656752238376482, 0.25055256830541117]\n",
      "[0.06665464555187532, 0.24986367834407008]\n",
      "Le nombre c, [0.12500000000000003, 0.21650635094610965] appartient à l'ensemble.\n",
      "Le module n'est pas constant.\n"
     ]
    }
   ],
   "source": [
    "z = [0, 0]\n",
    "c = [1, 1]\n",
    "print(z)\n",
    "for i in range(9):\n",
    "    z = f(z, c)\n",
    "    print(z)\n",
    "print(\"Le nombre c,\", c, \"appartient à l'ensemble.\")\n",
    "    \n",
    "print(\"Le module augmente.\")\n",
    "print(\"----------------------------------------------------------------------------------------------\")\n",
    "\n",
    "z = [0, 0]\n",
    "c = [1/4*cos(pi/3), 1/4*sin(pi/3)\n",
    "]\n",
    "print(z)\n",
    "for i in range(9):\n",
    "    z = f(z, c)\n",
    "    print(z)\n",
    "print(\"Le nombre c,\", c, \"appartient à l'ensemble.\")\n",
    "print(\"Le module n'est pas constant.\")"
   ]
  },
  {
   "cell_type": "markdown",
   "id": "ad8b6951",
   "metadata": {},
   "source": [
    "En Explorant la page <a href=\"https://fr.wikipedia.org/wiki/Ensemble_de_Mandelbrot\">wikipedia</a> ou par une demande précise à <a href=\"https://chat.openai.com/chat\">chatGPT</a> proposez le code de la fonction <code>calcul_point(c, iteration=10**3)</code> qui renvoie $0$ si la suite $z_n$ précédement définie est convergente et le nombre $n$ d'itération pour <em>se rendre compte</em> que la suite $(z_n)$ diverge. Le paramètre optionnel <code>iteration</code> valant par défaut $10^{3}$ est le nombre d'itération maximal pour constater la divergence ou non de la suite.\n",
    "</p>"
   ]
  },
  {
   "cell_type": "code",
   "execution_count": 186,
   "id": "19e6ddf9",
   "metadata": {},
   "outputs": [],
   "source": [
    "def calcul_point(c, iteration=10**3) : \n",
    "    z = [0, 0]\n",
    "    for n in range(iteration):\n",
    "        z = f(z, c)\n",
    "        if z[0]**2 > 5:\n",
    "            return n\n",
    "    return 0"
   ]
  },
  {
   "cell_type": "code",
   "execution_count": 187,
   "id": "6c689976",
   "metadata": {},
   "outputs": [
    {
     "name": "stdout",
     "output_type": "stream",
     "text": [
      "0\n",
      "2\n",
      "127\n",
      "697\n"
     ]
    }
   ],
   "source": [
    "#Tests\n",
    "print(calcul_point([0, 0]))#0\n",
    "print(calcul_point([1, 1]))#2\n",
    "print(calcul_point([0.278, 0.01]))#127\n",
    "print(calcul_point([0.2779, 0.01]))#697"
   ]
  },
  {
   "cell_type": "markdown",
   "id": "ab228571",
   "metadata": {},
   "source": [
    "<p>Écrire la fonction <code>Mandelbrot(xmin, xmax, ymin, ymax, precision=100, iteration=50)</code> affichant l'ensemble de Mandelbrot.\n",
    "\n",
    "<ul>\n",
    "    <li><code>xmin</code> est la borne minimale des abscisses de la fenêtre</li>\n",
    "    <li><code>xmax</code> est la borne maximale des abscisses de la fenêtre</li>\n",
    "    <li><code>ymin</code> est la borne minimale des ordonnées de la fenêtre</li>\n",
    "    <li><code>ymax</code> est la borne maximale des ordonnées de la fenêtre</li>\n",
    "    <li><code>precision</code> représente le nombre de subdivision des abscisses et des ordonnées</li>\n",
    "    <li><code>iteration</code> est le nombre d'itération maximal pour constater la convergence ou non de la suite.</li>\n",
    "</ul>\n",
    "\n",
    "Par exemple si l'on souhaite représenter l'ensemble de Mandelbrot dans une fenêtre (que l'on peut s'amuser à redimensionner à l'aide de <code>figsize</code>), où la plus petite valeur de $x$ est $-2$, la plus grande $0.5$ et que l'on souhaite que cet intervalle $[-2, 0.5]$ soit diviser en $100(=precision)$ pixels (chacun de taille $\\dfrac{0.5-(-2)}{100}$. \n",
    "<br>\n",
    "\n",
    "On devra saisir l'instruction <code>Mandelbrot(-2, 0.5, -1.2, 1.2, 100, 50)</code> qui donnera quelque chose comme : \n",
    "\n",
    "<img src=\"https://www.ataraxy.info/COEUR/Modules/SAE202/Mandelbrot100.png\" alt=\"Représentation de ce qui peut être attendu\">\n",
    "\n",
    "\n",
    "Travail optionnel : on pourra également s'amuser à représenter par une graduation de couleur la \"vitesse\" de divergence de la suite $z_n$ (il s'agit des différentes graduations de rouge sur l'image précédente). \n",
    "</p>"
   ]
  },
  {
   "cell_type": "code",
   "execution_count": 239,
   "id": "91b5a422",
   "metadata": {},
   "outputs": [],
   "source": [
    "def Mandelbrot(xmin, xmax, ymin, ymax, precision=100, iteration=50) :\n",
    "\n",
    "    img = [[0 for i in range(precision)] for j in range(precision)]\n",
    "\n",
    "    for i in range(precision):\n",
    "        for j in range(precision):\n",
    "            c = [xmin + i * (xmax-xmin) / precision, ymin + j * (ymax-ymin) / precision]\n",
    "            z = [0, 0]\n",
    "\n",
    "            for k in range(iteration):\n",
    "                z = f(z, c)\n",
    "\n",
    "                if z[0] ** 2 + z[1] ** 2 > 4:\n",
    "                    img[j][i] = k\n",
    "                    break\n",
    "\n",
    "    imshow(img, cmap='cool', extent=[xmin, xmax, ymin, ymax])\n",
    "    title('Mandelbrot Set')\n",
    "    show()"
   ]
  },
  {
   "cell_type": "code",
   "execution_count": 240,
   "id": "5a4da6c5",
   "metadata": {},
   "outputs": [
    {
     "data": {
      "image/png": "[encoded data removed]",
      "text/plain": [
       "<Figure size 432x288 with 1 Axes>"
      ]
     },
     "metadata": {
      "needs_background": "light"
     },
     "output_type": "display_data"
    }
   ],
   "source": [
    "iteration=50\n",
    "precision=10\n",
    "\n",
    "xmin=-2\n",
    "xmax=0.5\n",
    "\n",
    "ymin=-1.2\n",
    "ymax=1.2\n",
    "\n",
    "Mandelbrot(xmin, xmax, ymin, ymax, precision, iteration)"
   ]
  },
  {
   "cell_type": "code",
   "execution_count": 241,
   "id": "b8772ff6",
   "metadata": {},
   "outputs": [
    {
     "data": {
      "image/png": "[encoded data removed]",
      "text/plain": [
       "<Figure size 432x288 with 1 Axes>"
      ]
     },
     "metadata": {
      "needs_background": "light"
     },
     "output_type": "display_data"
    }
   ],
   "source": [
    "iteration=50\n",
    "precision=100\n",
    "\n",
    "xmin=-2\n",
    "xmax=0.5\n",
    "\n",
    "ymin=-1.2\n",
    "ymax=1.2\n",
    "\n",
    "Mandelbrot(xmin, xmax, ymin, ymax, precision, iteration)"
   ]
  },
  {
   "cell_type": "code",
   "execution_count": 242,
   "id": "4bf765b5",
   "metadata": {},
   "outputs": [
    {
     "data": {
      "image/png": "[encoded data removed]",
      "text/plain": [
       "<Figure size 432x288 with 1 Axes>"
      ]
     },
     "metadata": {
      "needs_background": "light"
     },
     "output_type": "display_data"
    }
   ],
   "source": [
    "iteration=50\n",
    "precision=200\n",
    "\n",
    "xmin=-2\n",
    "xmax=0.5\n",
    "\n",
    "ymin=-1.2\n",
    "ymax=1.2\n",
    "\n",
    "Mandelbrot(xmin, xmax, ymin, ymax, precision, iteration)"
   ]
  },
  {
   "cell_type": "code",
   "execution_count": 243,
   "id": "b0541880",
   "metadata": {},
   "outputs": [
    {
     "data": {
      "image/png": "[encoded data removed]",
      "text/plain": [
       "<Figure size 432x288 with 1 Axes>"
      ]
     },
     "metadata": {
      "needs_background": "light"
     },
     "output_type": "display_data"
    }
   ],
   "source": [
    "iteration=50\n",
    "precision=400\n",
    "\n",
    "xmin=-2\n",
    "xmax=0.5\n",
    "\n",
    "ymin=-1.2\n",
    "ymax=1.2\n",
    "\n",
    "Mandelbrot(xmin, xmax, ymin, ymax, precision, iteration)"
   ]
  },
  {
   "cell_type": "markdown",
   "id": "3170ff48",
   "metadata": {},
   "source": [
    "<p>Réalisez un zoom élégant dans la vallé des hippocampes</p>"
   ]
  },
  {
   "cell_type": "code",
   "execution_count": 244,
   "id": "a17199f3",
   "metadata": {},
   "outputs": [
    {
     "data": {
      "image/png": "[encoded data removed]",
      "text/plain": [
       "<Figure size 432x288 with 1 Axes>"
      ]
     },
     "metadata": {
      "needs_background": "light"
     },
     "output_type": "display_data"
    }
   ],
   "source": [
    "iteration=50\n",
    "precision=1000\n",
    "\n",
    "xmin=-0.74\n",
    "xmax=-0.75\n",
    "\n",
    "ymin=0.1\n",
    "ymax=0.11\n",
    "\n",
    "Mandelbrot(xmin, xmax, ymin, ymax, precision, iteration)"
   ]
  },
  {
   "cell_type": "code",
   "execution_count": null,
   "id": "b64443ba",
   "metadata": {},
   "outputs": [],
   "source": []
  }
 ],
 "metadata": {
  "hide_input": false,
  "kernelspec": {
   "display_name": "Python 3 (ipykernel)",
   "language": "python",
   "name": "python3"
  },
  "language_info": {
   "codemirror_mode": {
    "name": "ipython",
    "version": 3
   },
   "file_extension": ".py",
   "mimetype": "text/x-python",
   "name": "python",
   "nbconvert_exporter": "python",
   "pygments_lexer": "ipython3",
   "version": "3.9.12"
  }
 },
 "nbformat": 4,
 "nbformat_minor": 5
}
